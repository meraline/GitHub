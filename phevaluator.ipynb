{
 "cells": [
  {
   "cell_type": "code",
   "execution_count": 116,
   "id": "3af8aa73-e349-4e9e-806b-10f3f5e9bcb2",
   "metadata": {
    "collapsed": true,
    "jupyter": {
     "outputs_hidden": true
    },
    "tags": []
   },
   "outputs": [
    {
     "name": "stdout",
     "output_type": "stream",
     "text": [
      "Requirement already satisfied: phevaluator in c:\\users\\artio\\anaconda3\\lib\\site-packages (0.5.0.4)\n",
      "Requirement already satisfied: numpy in c:\\users\\artio\\anaconda3\\lib\\site-packages (from phevaluator) (1.21.6)\n"
     ]
    },
    {
     "name": "stderr",
     "output_type": "stream",
     "text": [
      "WARNING: Ignoring invalid distribution -rotobuf (c:\\users\\artio\\anaconda3\\lib\\site-packages)\n",
      "WARNING: Ignoring invalid distribution -rotobuf (c:\\users\\artio\\anaconda3\\lib\\site-packages)\n",
      "WARNING: Ignoring invalid distribution -rotobuf (c:\\users\\artio\\anaconda3\\lib\\site-packages)\n",
      "WARNING: Ignoring invalid distribution -rotobuf (c:\\users\\artio\\anaconda3\\lib\\site-packages)\n",
      "WARNING: Ignoring invalid distribution -rotobuf (c:\\users\\artio\\anaconda3\\lib\\site-packages)\n",
      "WARNING: Ignoring invalid distribution -rotobuf (c:\\users\\artio\\anaconda3\\lib\\site-packages)\n"
     ]
    }
   ],
   "source": [
    "!pip3 install phevaluator"
   ]
  },
  {
   "cell_type": "code",
   "execution_count": 120,
   "id": "c13aed72-37c2-43fc-b7b5-91d74be40794",
   "metadata": {},
   "outputs": [
    {
     "name": "stdout",
     "output_type": "stream",
     "text": [
      "The rank of the hand in player 1 is 73\n",
      "The rank of the hand in player 2 is 5713\n",
      "The rank of the hand in player 3 is 4538\n",
      "The rank of the hand in player 4 is 15\n"
     ]
    }
   ],
   "source": [
    "from phevaluator import evaluate_cards\n",
    "\n",
    "p1 = evaluate_cards(\"9c\", \"4c\", \"9s\", \"9d\", \"9h\", \"Qc\", \"6c\")\n",
    "p2 = evaluate_cards(\"9c\", \"4c\", \"8d\", \"4h\", \"2c\", \"5h\")\n",
    "p3 = evaluate_cards(\"Tc\", \"4c\", \"9s\", \"9d\", \"Qc\")\n",
    "p4 = evaluate_cards('9c', 'Ac', 'As', 'Ad', 'Ah')\n",
    "\n",
    "# Player 2 has a stronger hand\n",
    "print(f\"The rank of the hand in player 1 is {p1}\") # 292\n",
    "print(f\"The rank of the hand in player 2 is {p2}\") # 236\n",
    "print(f\"The rank of the hand in player 3 is {p3}\") # 292\n",
    "print(f\"The rank of the hand in player 4 is {p4}\") # 236"
   ]
  },
  {
   "cell_type": "code",
   "execution_count": 176,
   "id": "3f225541-26fd-4479-b5a1-8fef9b0d9cef",
   "metadata": {},
   "outputs": [],
   "source": [
    "h1, h2, f1, f2, f3, r, t = 'Jh', 'Td', 'Ah', 'Kc', 'Tc', 'Th', 'Ad'"
   ]
  },
  {
   "cell_type": "code",
   "execution_count": 177,
   "id": "fb438e20-c5b5-4ca0-b221-a4deb7b8f54d",
   "metadata": {},
   "outputs": [
    {
     "data": {
      "text/plain": [
       "215"
      ]
     },
     "execution_count": 177,
     "metadata": {},
     "output_type": "execute_result"
    }
   ],
   "source": [
    "rank = evaluate_cards(h1, h2, f1, f2, f3, r, t)\n",
    "rank"
   ]
  },
  {
   "cell_type": "code",
   "execution_count": 178,
   "id": "e6caff20-7dad-4acc-bef7-650b175d3cde",
   "metadata": {},
   "outputs": [],
   "source": [
    "def rank(h1, h2, f1, f2, f3, r, t):\n",
    "    \n",
    "    return evaluate_cards(h1, h2, f1, f2, f3, r, t)"
   ]
  },
  {
   "cell_type": "code",
   "execution_count": 192,
   "id": "bc96ce74-ef9d-462a-a92c-f4e6d3a631cc",
   "metadata": {},
   "outputs": [
    {
     "data": {
      "text/plain": [
       "31"
      ]
     },
     "execution_count": 192,
     "metadata": {},
     "output_type": "execute_result"
    }
   ],
   "source": [
    "rank('Kd', 'Kh', 'Ks', 'Kc', '5c', '2c', '3d')"
   ]
  },
  {
   "cell_type": "code",
   "execution_count": 61,
   "id": "6c5405c9-2499-4555-83ff-4117c32f93ac",
   "metadata": {},
   "outputs": [],
   "source": [
    "def nats_rabg(*kwargs):\n",
    "    \n",
    "    nats = evaluate_cards(kwargs)\n",
    "    \n",
    "    return nats"
   ]
  },
  {
   "cell_type": "code",
   "execution_count": 167,
   "id": "db7e9051-9a25-4b27-a369-ec1ef4997c4e",
   "metadata": {
    "tags": []
   },
   "outputs": [],
   "source": [
    "def evaluate_(hand):\n",
    "    \"\"\"\n",
    "    Описание\n",
    "    \"\"\"\n",
    "    combo = \", \".join( repr(e) for e in hand ).replace('\"', '')\n",
    "\n",
    "    \n",
    "    print(evaluate_cards(combo))\n",
    "\n"
   ]
  },
  {
   "cell_type": "code",
   "execution_count": 197,
   "id": "003f1379-015c-4f65-b988-349e9aa8d2af",
   "metadata": {},
   "outputs": [
    {
     "data": {
      "text/plain": [
       "4681"
      ]
     },
     "execution_count": 197,
     "metadata": {},
     "output_type": "execute_result"
    }
   ],
   "source": [
    " def myfunc():\n",
    "\n",
    "        h1r = 9\n",
    "        h1s = 3\n",
    "        h2r = 8\n",
    "        h2s = 2\n",
    "\n",
    "        f1r = 5\n",
    "        f1s = 0\n",
    "        f2r = 3\n",
    "        f2s = 1\n",
    "        f3r = 1\n",
    "        f3s = 2\n",
    "\n",
    "        tr = 6\n",
    "        ts = 3\n",
    "        rr = 8\n",
    "        rs = 0\n",
    "\n",
    "        if h1s == 0:\n",
    "            h1s = 2\n",
    "        if h1s == 2:\n",
    "            h1s = 0\n",
    "        if h2s == 0:\n",
    "            h2s = 2\n",
    "        if h2s == 2:\n",
    "            h2s = 0\n",
    "        if f1s == 0:\n",
    "            f1s = 2\n",
    "        if f2s == 2:\n",
    "            f2s = 0\n",
    "        if f3s == 0:\n",
    "            f3s = 2\n",
    "        if f3s == 2:\n",
    "            f3s = 0\n",
    "        if ts == 0:\n",
    "            ts = 2\n",
    "        if ts == 2:\n",
    "            ts = 0\n",
    "        if rs == 0:\n",
    "            rs = 2\n",
    "        if rs == 2:\n",
    "            rs = 0\n",
    "\n",
    "        h1 = (h1r - 2) * 4 + h1s\n",
    "        h2 = (h2r - 2) * 4 + h2s\n",
    "        f1 = (f1r - 2) * 4 + f1s\n",
    "        f2 = (f2r - 2) * 4 + f2s\n",
    "        f3 = (f3r - 2) * 4 + f3s\n",
    "\n",
    "        if tr == -1:\n",
    "            t = 0\n",
    "        else:t = (tr - 2) * 4 + ts\n",
    "\n",
    "        if rr == -1:\n",
    "            r = 0\n",
    "        else:r = (rr - 2) * 4 + rs\n",
    "\n",
    "        rang = evaluate_cards(h1, h2, f1, f2, f3, t, r)\n",
    "\n",
    "        return rang\n",
    "    \n",
    "    \n",
    "myfunc()    \n",
    "    "
   ]
  },
  {
   "cell_type": "code",
   "execution_count": 168,
   "id": "a5df3401-ab87-48aa-8d1b-8757d7668e3f",
   "metadata": {
    "collapsed": true,
    "jupyter": {
     "outputs_hidden": true
    },
    "tags": []
   },
   "outputs": [
    {
     "ename": "ValueError",
     "evalue": "too many values to unpack (expected 2)",
     "output_type": "error",
     "traceback": [
      "\u001b[1;31m---------------------------------------------------------------------------\u001b[0m",
      "\u001b[1;31mValueError\u001b[0m                                Traceback (most recent call last)",
      "Input \u001b[1;32mIn [168]\u001b[0m, in \u001b[0;36m<cell line: 2>\u001b[1;34m()\u001b[0m\n\u001b[0;32m      1\u001b[0m a \u001b[38;5;241m=\u001b[39m \u001b[38;5;124m'\u001b[39m\u001b[38;5;124mJh\u001b[39m\u001b[38;5;124m'\u001b[39m, \u001b[38;5;124m'\u001b[39m\u001b[38;5;124mTd\u001b[39m\u001b[38;5;124m'\u001b[39m, \u001b[38;5;124m'\u001b[39m\u001b[38;5;124m8h\u001b[39m\u001b[38;5;124m'\u001b[39m, \u001b[38;5;124m'\u001b[39m\u001b[38;5;124m8c\u001b[39m\u001b[38;5;124m'\u001b[39m, \u001b[38;5;124m'\u001b[39m\u001b[38;5;124m7c\u001b[39m\u001b[38;5;124m'\u001b[39m, \u001b[38;5;124m'\u001b[39m\u001b[38;5;124m3h\u001b[39m\u001b[38;5;124m'\u001b[39m, \u001b[38;5;124m'\u001b[39m\u001b[38;5;124m7d\u001b[39m\u001b[38;5;124m'\u001b[39m\n\u001b[1;32m----> 2\u001b[0m \u001b[43mevaluate_\u001b[49m\u001b[43m(\u001b[49m\u001b[43ma\u001b[49m\u001b[43m)\u001b[49m\n",
      "Input \u001b[1;32mIn [167]\u001b[0m, in \u001b[0;36mevaluate_\u001b[1;34m(hand)\u001b[0m\n\u001b[0;32m      2\u001b[0m \u001b[38;5;124;03m\"\"\"\u001b[39;00m\n\u001b[0;32m      3\u001b[0m \u001b[38;5;124;03mОписание\u001b[39;00m\n\u001b[0;32m      4\u001b[0m \u001b[38;5;124;03m\"\"\"\u001b[39;00m\n\u001b[0;32m      5\u001b[0m combo \u001b[38;5;241m=\u001b[39m \u001b[38;5;124m\"\u001b[39m\u001b[38;5;124m, \u001b[39m\u001b[38;5;124m\"\u001b[39m\u001b[38;5;241m.\u001b[39mjoin( \u001b[38;5;28mrepr\u001b[39m(e) \u001b[38;5;28;01mfor\u001b[39;00m e \u001b[38;5;129;01min\u001b[39;00m hand )\u001b[38;5;241m.\u001b[39mreplace(\u001b[38;5;124m'\u001b[39m\u001b[38;5;124m\"\u001b[39m\u001b[38;5;124m'\u001b[39m, \u001b[38;5;124m'\u001b[39m\u001b[38;5;124m'\u001b[39m)\n\u001b[1;32m----> 8\u001b[0m \u001b[38;5;28mprint\u001b[39m(\u001b[43mevaluate_cards\u001b[49m\u001b[43m(\u001b[49m\u001b[43mcombo\u001b[49m\u001b[43m)\u001b[49m)\n",
      "File \u001b[1;32m~\\anaconda3\\lib\\site-packages\\phevaluator\\evaluator.py:22\u001b[0m, in \u001b[0;36mevaluate_cards\u001b[1;34m(*cards)\u001b[0m\n\u001b[0;32m     21\u001b[0m \u001b[38;5;28;01mdef\u001b[39;00m \u001b[38;5;21mevaluate_cards\u001b[39m(\u001b[38;5;241m*\u001b[39mcards: Iterable[Union[\u001b[38;5;28mint\u001b[39m, \u001b[38;5;28mstr\u001b[39m, Card]]) \u001b[38;5;241m-\u001b[39m\u001b[38;5;241m>\u001b[39m \u001b[38;5;28mint\u001b[39m:\n\u001b[1;32m---> 22\u001b[0m     cards \u001b[38;5;241m=\u001b[39m \u001b[38;5;28;43mlist\u001b[39;49m\u001b[43m(\u001b[49m\u001b[38;5;28;43mmap\u001b[39;49m\u001b[43m(\u001b[49m\u001b[43mCard\u001b[49m\u001b[43m,\u001b[49m\u001b[43m \u001b[49m\u001b[43mcards\u001b[49m\u001b[43m)\u001b[49m\u001b[43m)\u001b[49m\n\u001b[0;32m     23\u001b[0m     hand_size \u001b[38;5;241m=\u001b[39m \u001b[38;5;28mlen\u001b[39m(cards)\n\u001b[0;32m     25\u001b[0m     \u001b[38;5;28;01mif\u001b[39;00m (\u001b[38;5;129;01mnot\u001b[39;00m (MIN_CARDS \u001b[38;5;241m<\u001b[39m\u001b[38;5;241m=\u001b[39m hand_size \u001b[38;5;241m<\u001b[39m\u001b[38;5;241m=\u001b[39m MAX_CARDS)) \u001b[38;5;129;01mor\u001b[39;00m (hand_size \u001b[38;5;129;01mnot\u001b[39;00m \u001b[38;5;129;01min\u001b[39;00m NO_FLUSHES):\n",
      "File \u001b[1;32m~\\anaconda3\\lib\\site-packages\\phevaluator\\card.py:23\u001b[0m, in \u001b[0;36mCard.__new__\u001b[1;34m(cls, value)\u001b[0m\n\u001b[0;32m     21\u001b[0m \u001b[38;5;28;01mdef\u001b[39;00m \u001b[38;5;21m__new__\u001b[39m(\u001b[38;5;28mcls\u001b[39m, value: Union[\u001b[38;5;28mint\u001b[39m, \u001b[38;5;28mstr\u001b[39m, Card]) \u001b[38;5;241m-\u001b[39m\u001b[38;5;241m>\u001b[39m Card:\n\u001b[0;32m     22\u001b[0m     \u001b[38;5;28;01mif\u001b[39;00m \u001b[38;5;28misinstance\u001b[39m(value, \u001b[38;5;28mstr\u001b[39m):\n\u001b[1;32m---> 23\u001b[0m         rank, suit \u001b[38;5;241m=\u001b[39m value\n\u001b[0;32m     24\u001b[0m         value \u001b[38;5;241m=\u001b[39m rank_map[rank] \u001b[38;5;241m*\u001b[39m \u001b[38;5;241m4\u001b[39m \u001b[38;5;241m+\u001b[39m suit_map[suit]\n\u001b[0;32m     25\u001b[0m     \u001b[38;5;28;01mreturn\u001b[39;00m \u001b[38;5;28msuper\u001b[39m(Card, \u001b[38;5;28mcls\u001b[39m)\u001b[38;5;241m.\u001b[39m\u001b[38;5;21m__new__\u001b[39m(\u001b[38;5;28mcls\u001b[39m, value)\n",
      "\u001b[1;31mValueError\u001b[0m: too many values to unpack (expected 2)"
     ]
    }
   ],
   "source": [
    "a = 'Jh', 'Td', '8h', '8c', '7c', '3h', '7d'\n",
    "evaluate_(a)"
   ]
  },
  {
   "cell_type": "code",
   "execution_count": 138,
   "id": "8b238a5a-8345-4a8c-b987-e5cfbde3c4c2",
   "metadata": {},
   "outputs": [
    {
     "name": "stdout",
     "output_type": "stream",
     "text": [
      "'Jh', 'Td', '8h', '8c', '7c', '3h', '7d'\n"
     ]
    }
   ],
   "source": [
    "\n",
    "print(\", \".join( repr(e) for e in a ) )"
   ]
  },
  {
   "cell_type": "code",
   "execution_count": 114,
   "id": "012c534c-af73-4574-92d4-4eb4dc91940a",
   "metadata": {},
   "outputs": [
    {
     "data": {
      "text/plain": [
       "'012'"
      ]
     },
     "execution_count": 114,
     "metadata": {},
     "output_type": "execute_result"
    }
   ],
   "source": [
    "x = [0, 1, 2]\n",
    "y = ''.join(map(str, x))\n",
    "z = int(y)\n",
    "y"
   ]
  },
  {
   "cell_type": "code",
   "execution_count": 92,
   "id": "208b6d00-264a-4971-b1ca-2b9ced234818",
   "metadata": {},
   "outputs": [
    {
     "data": {
      "text/plain": [
       "tuple"
      ]
     },
     "execution_count": 92,
     "metadata": {},
     "output_type": "execute_result"
    }
   ],
   "source": [
    "r = \"As\", \"Ad\", \"Ah\", \"2c\", \"9h\"\n",
    "a= str(r)\n",
    "#nats_rabg(\"As\", \"Ad\", \"Ah\", \"2c\", \"9h\")\n",
    "type(r)"
   ]
  },
  {
   "cell_type": "code",
   "execution_count": 71,
   "id": "14a54666-640b-4803-8b20-121cc1cde10f",
   "metadata": {
    "collapsed": true,
    "jupyter": {
     "outputs_hidden": true
    },
    "tags": []
   },
   "outputs": [
    {
     "ename": "TypeError",
     "evalue": "int() argument must be a string, a bytes-like object or a number, not 'tuple'",
     "output_type": "error",
     "traceback": [
      "\u001b[1;31m---------------------------------------------------------------------------\u001b[0m",
      "\u001b[1;31mTypeError\u001b[0m                                 Traceback (most recent call last)",
      "Input \u001b[1;32mIn [71]\u001b[0m, in \u001b[0;36m<cell line: 3>\u001b[1;34m()\u001b[0m\n\u001b[0;32m      1\u001b[0m h1\u001b[38;5;241m=\u001b[39m \u001b[38;5;124m\"\u001b[39m\u001b[38;5;124m9c\u001b[39m\u001b[38;5;124m\"\u001b[39m, \u001b[38;5;124m\"\u001b[39m\u001b[38;5;124mAc\u001b[39m\u001b[38;5;124m\"\u001b[39m\n\u001b[0;32m      2\u001b[0m f1,f2,f3,t,r \u001b[38;5;241m=\u001b[39m \u001b[38;5;124m\"\u001b[39m\u001b[38;5;124mAs\u001b[39m\u001b[38;5;124m\"\u001b[39m, \u001b[38;5;124m\"\u001b[39m\u001b[38;5;124mAd\u001b[39m\u001b[38;5;124m\"\u001b[39m, \u001b[38;5;124m\"\u001b[39m\u001b[38;5;124mAh\u001b[39m\u001b[38;5;124m\"\u001b[39m, \u001b[38;5;124m\"\u001b[39m\u001b[38;5;124m2c\u001b[39m\u001b[38;5;124m\"\u001b[39m, \u001b[38;5;124m\"\u001b[39m\u001b[38;5;124m9h\u001b[39m\u001b[38;5;124m\"\u001b[39m\n\u001b[1;32m----> 3\u001b[0m \u001b[43mnats_rabg\u001b[49m\u001b[43m(\u001b[49m\u001b[43mh1\u001b[49m\u001b[43m \u001b[49m\u001b[43m)\u001b[49m\n",
      "Input \u001b[1;32mIn [61]\u001b[0m, in \u001b[0;36mnats_rabg\u001b[1;34m(a)\u001b[0m\n\u001b[0;32m      1\u001b[0m \u001b[38;5;28;01mdef\u001b[39;00m \u001b[38;5;21mnats_rabg\u001b[39m(a):\n\u001b[1;32m----> 3\u001b[0m     nats \u001b[38;5;241m=\u001b[39m \u001b[43mevaluate_cards\u001b[49m\u001b[43m(\u001b[49m\u001b[43ma\u001b[49m\u001b[43m)\u001b[49m\n\u001b[0;32m      5\u001b[0m     \u001b[38;5;28;01mreturn\u001b[39;00m nats\n",
      "File \u001b[1;32m~\\anaconda3\\lib\\site-packages\\phevaluator\\evaluator.py:22\u001b[0m, in \u001b[0;36mevaluate_cards\u001b[1;34m(*cards)\u001b[0m\n\u001b[0;32m     21\u001b[0m \u001b[38;5;28;01mdef\u001b[39;00m \u001b[38;5;21mevaluate_cards\u001b[39m(\u001b[38;5;241m*\u001b[39mcards: Iterable[Union[\u001b[38;5;28mint\u001b[39m, \u001b[38;5;28mstr\u001b[39m, Card]]) \u001b[38;5;241m-\u001b[39m\u001b[38;5;241m>\u001b[39m \u001b[38;5;28mint\u001b[39m:\n\u001b[1;32m---> 22\u001b[0m     cards \u001b[38;5;241m=\u001b[39m \u001b[38;5;28;43mlist\u001b[39;49m\u001b[43m(\u001b[49m\u001b[38;5;28;43mmap\u001b[39;49m\u001b[43m(\u001b[49m\u001b[43mCard\u001b[49m\u001b[43m,\u001b[49m\u001b[43m \u001b[49m\u001b[43mcards\u001b[49m\u001b[43m)\u001b[49m\u001b[43m)\u001b[49m\n\u001b[0;32m     23\u001b[0m     hand_size \u001b[38;5;241m=\u001b[39m \u001b[38;5;28mlen\u001b[39m(cards)\n\u001b[0;32m     25\u001b[0m     \u001b[38;5;28;01mif\u001b[39;00m (\u001b[38;5;129;01mnot\u001b[39;00m (MIN_CARDS \u001b[38;5;241m<\u001b[39m\u001b[38;5;241m=\u001b[39m hand_size \u001b[38;5;241m<\u001b[39m\u001b[38;5;241m=\u001b[39m MAX_CARDS)) \u001b[38;5;129;01mor\u001b[39;00m (hand_size \u001b[38;5;129;01mnot\u001b[39;00m \u001b[38;5;129;01min\u001b[39;00m NO_FLUSHES):\n",
      "File \u001b[1;32m~\\anaconda3\\lib\\site-packages\\phevaluator\\card.py:25\u001b[0m, in \u001b[0;36mCard.__new__\u001b[1;34m(cls, value)\u001b[0m\n\u001b[0;32m     23\u001b[0m     rank, suit \u001b[38;5;241m=\u001b[39m value\n\u001b[0;32m     24\u001b[0m     value \u001b[38;5;241m=\u001b[39m rank_map[rank] \u001b[38;5;241m*\u001b[39m \u001b[38;5;241m4\u001b[39m \u001b[38;5;241m+\u001b[39m suit_map[suit]\n\u001b[1;32m---> 25\u001b[0m \u001b[38;5;28;01mreturn\u001b[39;00m \u001b[38;5;28;43msuper\u001b[39;49m\u001b[43m(\u001b[49m\u001b[43mCard\u001b[49m\u001b[43m,\u001b[49m\u001b[43m \u001b[49m\u001b[38;5;28;43mcls\u001b[39;49m\u001b[43m)\u001b[49m\u001b[38;5;241;43m.\u001b[39;49m\u001b[38;5;21;43m__new__\u001b[39;49m\u001b[43m(\u001b[49m\u001b[38;5;28;43mcls\u001b[39;49m\u001b[43m,\u001b[49m\u001b[43m \u001b[49m\u001b[43mvalue\u001b[49m\u001b[43m)\u001b[49m\n",
      "\u001b[1;31mTypeError\u001b[0m: int() argument must be a string, a bytes-like object or a number, not 'tuple'"
     ]
    }
   ],
   "source": [
    "h1= \"9c\", \"Ac\"\n",
    "f1,f2,f3,t,r = \"As\", \"Ad\", \"Ah\", \"2c\", \"9h\"\n",
    "nats_rabg(h1 )"
   ]
  },
  {
   "cell_type": "code",
   "execution_count": 46,
   "id": "4b70230a-fd70-4e53-9509-57d3d1776145",
   "metadata": {
    "collapsed": true,
    "jupyter": {
     "outputs_hidden": true
    },
    "tags": []
   },
   "outputs": [
    {
     "ename": "TypeError",
     "evalue": "int() argument must be a string, a bytes-like object or a number, not 'list'",
     "output_type": "error",
     "traceback": [
      "\u001b[1;31m---------------------------------------------------------------------------\u001b[0m",
      "\u001b[1;31mTypeError\u001b[0m                                 Traceback (most recent call last)",
      "Input \u001b[1;32mIn [46]\u001b[0m, in \u001b[0;36m<cell line: 6>\u001b[1;34m()\u001b[0m\n\u001b[0;32m      4\u001b[0m kombo \u001b[38;5;241m=\u001b[39m [hiro \u001b[38;5;241m+\u001b[39m board]\n\u001b[0;32m      5\u001b[0m kombo \u001b[38;5;241m=\u001b[39m \u001b[38;5;28mlist\u001b[39m(kombo)\n\u001b[1;32m----> 6\u001b[0m \u001b[43mphevaluator\u001b[49m\u001b[43m(\u001b[49m\u001b[43mkombo\u001b[49m\u001b[43m)\u001b[49m\n",
      "Input \u001b[1;32mIn [40]\u001b[0m, in \u001b[0;36mphevaluator\u001b[1;34m(kombo, *args)\u001b[0m\n\u001b[0;32m      1\u001b[0m \u001b[38;5;28;01mdef\u001b[39;00m \u001b[38;5;21mphevaluator\u001b[39m(kombo, \u001b[38;5;241m*\u001b[39margs):\n\u001b[1;32m----> 3\u001b[0m     nats \u001b[38;5;241m=\u001b[39m \u001b[43mevaluate_cards\u001b[49m\u001b[43m(\u001b[49m\u001b[43mkombo\u001b[49m\u001b[43m)\u001b[49m\n\u001b[0;32m      5\u001b[0m     \u001b[38;5;28;01mreturn\u001b[39;00m nats\n",
      "File \u001b[1;32m~\\anaconda3\\lib\\site-packages\\phevaluator\\evaluator.py:22\u001b[0m, in \u001b[0;36mevaluate_cards\u001b[1;34m(*cards)\u001b[0m\n\u001b[0;32m     21\u001b[0m \u001b[38;5;28;01mdef\u001b[39;00m \u001b[38;5;21mevaluate_cards\u001b[39m(\u001b[38;5;241m*\u001b[39mcards: Iterable[Union[\u001b[38;5;28mint\u001b[39m, \u001b[38;5;28mstr\u001b[39m, Card]]) \u001b[38;5;241m-\u001b[39m\u001b[38;5;241m>\u001b[39m \u001b[38;5;28mint\u001b[39m:\n\u001b[1;32m---> 22\u001b[0m     cards \u001b[38;5;241m=\u001b[39m \u001b[38;5;28;43mlist\u001b[39;49m\u001b[43m(\u001b[49m\u001b[38;5;28;43mmap\u001b[39;49m\u001b[43m(\u001b[49m\u001b[43mCard\u001b[49m\u001b[43m,\u001b[49m\u001b[43m \u001b[49m\u001b[43mcards\u001b[49m\u001b[43m)\u001b[49m\u001b[43m)\u001b[49m\n\u001b[0;32m     23\u001b[0m     hand_size \u001b[38;5;241m=\u001b[39m \u001b[38;5;28mlen\u001b[39m(cards)\n\u001b[0;32m     25\u001b[0m     \u001b[38;5;28;01mif\u001b[39;00m (\u001b[38;5;129;01mnot\u001b[39;00m (MIN_CARDS \u001b[38;5;241m<\u001b[39m\u001b[38;5;241m=\u001b[39m hand_size \u001b[38;5;241m<\u001b[39m\u001b[38;5;241m=\u001b[39m MAX_CARDS)) \u001b[38;5;129;01mor\u001b[39;00m (hand_size \u001b[38;5;129;01mnot\u001b[39;00m \u001b[38;5;129;01min\u001b[39;00m NO_FLUSHES):\n",
      "File \u001b[1;32m~\\anaconda3\\lib\\site-packages\\phevaluator\\card.py:25\u001b[0m, in \u001b[0;36mCard.__new__\u001b[1;34m(cls, value)\u001b[0m\n\u001b[0;32m     23\u001b[0m     rank, suit \u001b[38;5;241m=\u001b[39m value\n\u001b[0;32m     24\u001b[0m     value \u001b[38;5;241m=\u001b[39m rank_map[rank] \u001b[38;5;241m*\u001b[39m \u001b[38;5;241m4\u001b[39m \u001b[38;5;241m+\u001b[39m suit_map[suit]\n\u001b[1;32m---> 25\u001b[0m \u001b[38;5;28;01mreturn\u001b[39;00m \u001b[38;5;28;43msuper\u001b[39;49m\u001b[43m(\u001b[49m\u001b[43mCard\u001b[49m\u001b[43m,\u001b[49m\u001b[43m \u001b[49m\u001b[38;5;28;43mcls\u001b[39;49m\u001b[43m)\u001b[49m\u001b[38;5;241;43m.\u001b[39;49m\u001b[38;5;21;43m__new__\u001b[39;49m\u001b[43m(\u001b[49m\u001b[38;5;28;43mcls\u001b[39;49m\u001b[43m,\u001b[49m\u001b[43m \u001b[49m\u001b[43mvalue\u001b[49m\u001b[43m)\u001b[49m\n",
      "\u001b[1;31mTypeError\u001b[0m: int() argument must be a string, a bytes-like object or a number, not 'list'"
     ]
    }
   ],
   "source": [
    "h1, h2 = \"9c\", \"Ac\"\n",
    "f1,f2,f3,t,r = \"As\", \"Ad\", \"Ah\", \"2c\", \"9h\"\n",
    "\n",
    "kombo = [hiro + board]\n",
    "kombo = list(kombo)\n",
    "phevaluator(kombo)\n"
   ]
  },
  {
   "cell_type": "code",
   "execution_count": 38,
   "id": "cbe684ec-d045-49b5-9ec7-6ef464029bf3",
   "metadata": {},
   "outputs": [
    {
     "data": {
      "text/plain": [
       "tuple"
      ]
     },
     "execution_count": 38,
     "metadata": {},
     "output_type": "execute_result"
    }
   ],
   "source": [
    "type(kombo)"
   ]
  },
  {
   "cell_type": "code",
   "execution_count": 28,
   "id": "ccde2e7a-3d20-4e4e-b2ae-6449d0a1fb2f",
   "metadata": {},
   "outputs": [
    {
     "name": "stdout",
     "output_type": "stream",
     "text": [
      "['C2', '4', '6', '8', '10']\n"
     ]
    }
   ],
   "source": [
    "a_list = [\"C2\", \"4\", \"6\", \"8\", \"10\"]\n",
    "\n",
    "int_list = (a_list)\n",
    "\n",
    "print(int_list)"
   ]
  },
  {
   "cell_type": "code",
   "execution_count": 152,
   "id": "c78a2b4f-537a-4328-8223-028e592f71cc",
   "metadata": {},
   "outputs": [
    {
     "name": "stdout",
     "output_type": "stream",
     "text": [
      "Requirement already satisfied: pokereval in c:\\users\\artio\\anaconda3\\lib\\site-packages (0.2.0)\n"
     ]
    },
    {
     "name": "stderr",
     "output_type": "stream",
     "text": [
      "WARNING: Ignoring invalid distribution -rotobuf (c:\\users\\artio\\anaconda3\\lib\\site-packages)\n",
      "WARNING: Ignoring invalid distribution -rotobuf (c:\\users\\artio\\anaconda3\\lib\\site-packages)\n",
      "WARNING: Ignoring invalid distribution -rotobuf (c:\\users\\artio\\anaconda3\\lib\\site-packages)\n",
      "WARNING: Ignoring invalid distribution -rotobuf (c:\\users\\artio\\anaconda3\\lib\\site-packages)\n",
      "WARNING: Ignoring invalid distribution -rotobuf (c:\\users\\artio\\anaconda3\\lib\\site-packages)\n",
      "WARNING: Ignoring invalid distribution -rotobuf (c:\\users\\artio\\anaconda3\\lib\\site-packages)\n"
     ]
    }
   ],
   "source": [
    "!pip install pokereval"
   ]
  },
  {
   "cell_type": "code",
   "execution_count": 163,
   "id": "18e015df-a85c-45df-bca9-41ca0542daa3",
   "metadata": {},
   "outputs": [],
   "source": [
    "from pokereval.card import Card\n",
    "from pokereval.hand_evaluator import HandEvaluator\n",
    "\n",
    "hole = [Card(13, 1), Card(14, 2)]\n",
    "board = []\n",
    "score = HandEvaluator.evaluate_hand(hole, board)"
   ]
  },
  {
   "cell_type": "code",
   "execution_count": 164,
   "id": "edcd8f09-c32d-405d-95ce-133b49018a1b",
   "metadata": {},
   "outputs": [
    {
     "data": {
      "text/plain": [
       "0.9547511312217195"
      ]
     },
     "execution_count": 164,
     "metadata": {},
     "output_type": "execute_result"
    }
   ],
   "source": [
    "score"
   ]
  },
  {
   "cell_type": "code",
   "execution_count": null,
   "id": "49d9b3e0-e930-426d-8fc5-cae7bd135739",
   "metadata": {},
   "outputs": [],
   "source": []
  }
 ],
 "metadata": {
  "kernelspec": {
   "display_name": "Python 3 (ipykernel)",
   "language": "python",
   "name": "python3"
  },
  "language_info": {
   "codemirror_mode": {
    "name": "ipython",
    "version": 3
   },
   "file_extension": ".py",
   "mimetype": "text/x-python",
   "name": "python",
   "nbconvert_exporter": "python",
   "pygments_lexer": "ipython3",
   "version": "3.9.7"
  },
  "widgets": {
   "application/vnd.jupyter.widget-state+json": {
    "state": {},
    "version_major": 2,
    "version_minor": 0
   }
  }
 },
 "nbformat": 4,
 "nbformat_minor": 5
}
