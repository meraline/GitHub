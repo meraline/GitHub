import numpy as np


train = np.loadtxt('./data/digit/train.csv', delimiter=',', skiprows=1)


# сохраняем разметку в отдельную переменную
train_label = train[:, 0]
# приводим размерность к удобному для обаботки виду
train_img = np.reshape(train[:, 1:], (len(train[:, 1:]), 28, 28))


get_ipython().run_line_magic("matplotlib", " inline")
from matplotlib import pyplot as plt
fig = plt.figure(figsize=(20, 10))
for i, img in enumerate(train_img[0:5], 1):
    subplot = fig.add_subplot(1, 7, i)
    plt.imshow(img, cmap='gray');
    subplot.set_title('%s' % train_label[i - 1]);


# выбираем семпл данных для обработки
choices = np.random.choice(train_img.shape[0], 10000)

y = train_label[choices]
X = train_img[choices].reshape(-1, 28 * 28).astype(np.float32)


# центрируем данные
X_mean = X.mean(axis=0)
X -= X_mean


# матрица ковариации признаков
cov = np.dot(X.T, X) / X.shape[0]


U, S, _ = np.linalg.svd(cov)
# U - собсвенные вектора матрицы ковариации
# S - собственные значения


# накопленная сумма собственных значений
S_cumsum = np.cumsum(S) / np.sum(S)
plt.plot(S_cumsum, 'o')


for i in range(5):
    print('[%03d] %.3f' % (i, S_cumsum[i]))


S_thr = 0.75  # задаем порог для накопленной суммы собственных значений

# определяем необходимое число компонент для заданного порога
n_comp = np.argmax(np.where(S_cumsum > S_thr, 1, 0))

print('n_comp=get_ipython().run_line_magic("d", " S=%.3f' % (n_comp, S_cumsum[n_comp]))")


# получаем сжатое представление объектов
Xrot_reduced = np.dot(X, U[:, :n_comp])


Xrot_reduced[0]


Xrot_restored = np.dot(Xrot_reduced, U[:,:n_comp].T)


from matplotlib import pyplot as plt
fig = plt.figure(figsize=(20, 10))
for i, img in enumerate(X[0:6], 1):
    subplot = fig.add_subplot(1, 7, i)
    img_ = img + X_mean
    plt.title('%s' % y[i-1])
    plt.imshow(img_.reshape((28,28)), cmap='gray');


from matplotlib import pyplot as plt
fig = plt.figure(figsize=(20, 10))
for i, img in enumerate(Xrot_restored[0:6], 1):
    subplot = fig.add_subplot(1, 7, i)
    img_ = img + X_mean
    plt.title('%s' % y[i-1])
    plt.imshow(img_.reshape((28,28)) + X_mean.reshape((28,28)), cmap='gray');


fig = plt.figure(figsize=(20, 10))
for i, img in enumerate(U.T[:30, :], 1):
    subplot = fig.add_subplot(6, 5, i)
    plt.imshow(img.reshape((28,28)), cmap='gray');


plt.imshow(Xrot_restored[0].reshape((28,28)),cmap='gray')


plt.imshow(X[0].reshape((28,28)),cmap='gray')


Xrot_reduced.shape


img_rest = np.zeros((28,28), dtype=np.float32)
for i in range(32):
    img_rest += (U.T[i, :] * Xrot_reduced[0, i]).reshape(28, 28)
plt.imshow(img_rest, cmap='gray')



