get_ipython().getoutput("pip install torch")


import torch


x = torch.arange(12)
x


x.shape


x.device


x.view((3,4))


x.view((-1, 4))


torch.zeros((2,3,4))


torch.ones((2,3,4))


torch.tensor([[1,2,3], [4,5,6]])


torch.rand((2,3,4))


torch.randn((2,3,4))


x = torch.tensor([1., 2., 4., 8.])
y = torch.ones_like(x) * 2
print('x =', x)
print('y =', y)
print('x + y', x + y)
print('x - y', x - y)
print('x * y', x * y)
print('x / y', x / y)


x.exp()


x = torch.arange(12).reshape((3,4))
y = torch.tensor([[2, 1, 4, 3], [1, 2, 3, 4], [4, 3, 2, 1]])
torch.mm(x, y.T)


torch.cat((x, y), dim=0)


torch.cat((x, y), dim=1)


x == y


x.sum()


x.sum().item()


a = torch.arange(3).reshape((3, 1))
b = torch.arange(2).reshape((1, 2))
a, b


a + b





x


x[1:3]


x[1, 2] = 9
x


x[0:2, :] = 12
x


x.numpy()


y = torch.tensor(x.numpy())
y


A = torch.tensor(((1.,1.), (1.,2.)))
B = torch.tensor(((2,-1.), (-1,1.)))
torch.mm(A, B)


vertexes = [(1,1), (1,-1), (-1, -1), (-1, 1)]
A  = torch.tensor( ((1,1), (1,2)))
for v  in vertexes:
  vt = torch.tensor(v)
  r = torch.mv(A, vt)
  print("Vertex", v, "Result", r)


xx = torch.tensor([[1,2],[3,4]])
for i1 in (0., 0.5, 1.):
    for i2 in (0., 0.5, 1.):
        for i3 in (0., 0.5, 1.):
            for i4 in (0., 0.5, 1.):
                yy = torch.tensor([[i1,i2], [i3,i4]])
                xx_tmp = xx * yy
                if torch.all(torch.eq(xx_tmp, xx)):
                  print(yy)


import urllib.request

url = 'https://archive.ics.uci.edu/ml/machine-learning-databases/00228/smsspamcollection.zip'
urllib.request.urlretrieve(url, 'smsspamcollection.zip')


get_ipython().getoutput("pip install --upgrade pandas --user")


import pandas as pd


import zipfile

with zipfile.ZipFile('smsspamcollection.zip', 'r') as z:
    z.extractall()


df = pd.read_table('SMSSpamCollection', 
                   sep='\t', 
                   header=None, 
                   names=['label', 'sms_message'])


df.head()


# предобработка данных меняем ham':0,'spam':1
df['label'] = df.label.map({'ham':0,'spam':1})

df.shape


from sklearn.model_selection import train_test_split

X_train, X_test, y_train, y_test = train_test_split(df['sms_message'], 
                                                    df['label'], 
                                                    random_state=1)

print('Number of rows in the total set: {}'.format(df.shape[0]))
print('Number of rows in the training set: {}'.format(X_train.shape[0]))
print('Number of rows in the test set: {}'.format(X_test.shape[0]))


from sklearn.feature_extraction.text import CountVectorizer


count_vector = CountVectorizer()
training_data = count_vector.fit_transform(X_train).toarray()
testing_data = count_vector.transform(X_test).toarray()


training_tensor = torch.Tensor(training_data)
testing_tensor = torch.Tensor(testing_data)


training_tensor.shape


training_tensor.sum()


p_w = training_tensor.sum(axis=0) / training_tensor.sum()
p_w.shape


spam_training_tensor = training_tensor[(y_train == 1).values]


spam_training_tensor.shape


p_w_spam = spam_training_tensor.sum(axis=0) / spam_training_tensor.sum()
p_w_spam.shape


p_spam = (y_train == 1).values.sum() / len(y_train)
p_not_spam = (y_train == 0).values.sum() / len(y_train)


p_spam


p_not_spam


test_sample = testing_tensor[0]


y_test.head()


df.iloc[1078]


[test_sample != 0]


(test_sample * p_w_spam)[test_sample != 0]


(test_sample * p_w_spam)[test_sample != 0].prod()


(test_sample * p_w_spam)[test_sample != 0].prod() * p_spam


((test_sample * p_w)[test_sample != 0].prod())


(test_sample * p_w_spam)[test_sample != 0].prod() * p_spam / ((test_sample * p_w)[test_sample != 0].prod())


# Равномерное распределение вероятности


torch.rand(10)


## Нормальное распределение


torch.randn(10)


## Равномерное на целых числах


torch.randint(0, 10, (10,))


get_ipython().run_line_magic("matplotlib", " inline")
import matplotlib.pyplot as plt


tensor = torch.randn(10000)


plt.hist(tensor)



