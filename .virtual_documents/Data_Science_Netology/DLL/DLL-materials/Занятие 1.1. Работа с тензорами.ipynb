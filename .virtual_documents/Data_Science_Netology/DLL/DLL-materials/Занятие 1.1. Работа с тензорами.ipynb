import torch


x = torch.arange(12)
x


xx = torch.Tensor([[x, x**2, x**3] for x in range(12)])
xx


torch.Tensor([1])


x.shape, xx.shape


x.device


x.view((2,-1,2)).shape


x.reshape((2,-1,3)).shape


x.view((-1, 4))


torch.zeros((2,3,4))


torch.ones((2,3,4))


torch.tensor([[1,2,3], [4,5,6], [10,11,0]])


torch.rand((2,3,4))


torch.randn((2,3,4))


x = torch.tensor([1., 2., 4., 8.])
y = torch.ones_like(x) * 2
print('x =', x)
print('y =', y)
print('x + y', x + y)
print('x - y', x - y)
print('x * y', x * y)
print('x / y', x / y)


x.exp()


x1 = torch.arange(12)
x2 = torch.arange(12)
x3 = torch.arange(12)


x = torch.arange(12).reshape((3,4))
y = torch.tensor([[2, 1, 4, 3], [1, 2, 3, 4], [4, 3, 2, 1]])
torch.mm(x, y.T)


torch.cat((x, y), axis=0)


torch.cat((x, y), dim=1)


(x <= y).int()


x


x.sum()


x.sum().item()


x.sum(dim=1).shape


x.sum(dim=1, keepdim=True).shape


x.sum(dim=0, keepdim=True).shape


x.dtype


x.double()


x.type('torch.DoubleTensor')


x = torch.tensor([4,5,6,7])
y = 3
x - y


x.shape


x


x.unsqueeze(1).shape


x.unsqueeze(2)


x.unsqueeze(1).shape


x.unsqueeze(1)


x.unsqueeze(2).shape


x.unsqueeze(2)


x.unsqueeze(2).unsqueeze(1).squeeze().shape


x.T


x


x.unsqueeze(0).squeeze().shape


x.T


x.permute(1,0)


xx = torch.rand((2,3,4))


xx


xx.permute(1,2,0)





a = torch.arange(3).reshape((3, 1))
b = torch.arange(4).reshape((1, 4))
a, b


a + b


x


x[1:3,1:3]


x[1:3, 2:3] = 9
x


x[0:2, :] = 12
x


x.numpy()


y = torch.tensor(x.numpy())
y


a = torch.tensor([[1,1],[1,2]])
b = torch.tensor([[2,-1],[-1,1]])
torch.mm(a,b)



a = torch.tensor([[1,2],[3,4]])

l = [[1,1],[1,-1],[-1,-1],[-1,1]]


for i in l:
  t = torch.tensor(i)
  print(torch.mv(a,t))



# Равномерное распределение вероятности


torch.rand(10)


## Нормальное распределение


torch.randn(10)


## Равномерное на целых числах


torch.randint(0, 10, (10,))


from matplotlib import pyplot as plt
_ = plt.hist(torch.randn(1000000), bins=1000)






