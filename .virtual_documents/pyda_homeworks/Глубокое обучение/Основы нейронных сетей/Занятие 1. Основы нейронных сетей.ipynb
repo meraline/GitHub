import torch
from sklearn.datasets import fetch_california_housing
from sklearn.model_selection import train_test_split

# Загрузка данных
X, y = fetch_california_housing(return_X_y=True)

# Разделение на обучающую и тестовую выборки
X_train, X_test, y_train, y_test = train_test_split(X, y, test_size=0.2, random_state=42)

# Преобразуем в тензоры PyTorch
X_train = torch.from_numpy(X_train.astype(np.float32))
X_test = torch.from_numpy(X_test.astype(np.float32))
y_train = torch.from_numpy(y_train.astype(np.float32)) 
y_test = torch.from_numpy(y_test.astype(np.float32))

# Модель - просто линейный слой
model = torch.nn.Linear(8, 1)

# Функция потерь 
loss_fn = torch.nn.MSELoss()

# Оптимизатор 
optimizer = torch.optim.SGD(model.parameters(), lr=1e-4)

# Обучение
for t in range(500):
  # Forward pass
  y_pred = model(X_train)

  # Вычисление функции потерь
  loss = loss_fn(y_pred, y_train)
  
  # Обнуление градиентов
  optimizer.zero_grad()
  
  # Backward pass
  loss.backward()
  
  # Обновление весов 
  optimizer.step()

# Проверка на тестовых данных  
test_pred = model(X_test)
test_loss = loss_fn(test_pred, y_test)
print('Test loss:', test_loss.item())


import torch
from sklearn.datasets import fetch_boston
from sklearn.model_selection import train_test_split




get_ipython().getoutput("conda install scikit-learn")



# Загрузка данных
X, y = fetch_boston(return_X_y=True)  

# Нормализация целевой переменной
y = y / y.max()

# Разделение данных
X_train, X_test, y_train, y_test = train_test_split(X, y, test_size=0.2, random_state=42)

# Преобразование в тензоры
X_train = torch.from_numpy(X_train.astype(np.float32))
X_test = torch.from_numpy(X_test.astype(np.float32)) 
y_train = torch.from_numpy(y_train.astype(np.float32))
y_test = torch.from_numpy(y_test.astype(np.float32))

# Модель 
model = torch.nn.Linear(13, 1)

# Функция потерь и оптимизатор
loss_fn = torch.nn.MSELoss()
optimizer = torch.optim.SGD(model.parameters(), lr=1e-3) 

# Обучение
losses = []
for t in range(300):
  # Forward pass
  y_pred = model(X_train)

  # Вычисление функции потерь
  loss = loss_fn(y_pred, y_train)
  losses.append(loss.item())
  
  # Обнуление градиентов
  optimizer.zero_grad()

  # Backward pass
  loss.backward()

  # Обновление весов
  optimizer.step()

# Оценка на тестовых данных
test_pred = model(X_test)
test_loss = loss_fn(test_pred, y_test)

print(f'Final loss: {test_loss.item():.4f}')


get_ipython().getoutput("pip install -U scikit-learn")



