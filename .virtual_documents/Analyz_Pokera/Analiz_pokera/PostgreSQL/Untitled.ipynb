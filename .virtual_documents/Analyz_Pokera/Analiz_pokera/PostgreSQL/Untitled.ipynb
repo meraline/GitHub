def get_spacing(depth):
    first_num_spacing = 2 ** depth
    other_num_spacing = 0
    if (depth == 1):
        other_num_spacing = 3
    elif (depth == 2):
        other_num_spacing = 7
    elif (depth == 3):
        other_num_spacing = 15
    elif (depth == 4):
        other_num_spacing = 31
    return [first_num_spacing, other_num_spacing]
    

def print_tree(node, depth):
    layer_nodes = [node]
    while (len(layer_nodes) > 0):
        layer_has_nodes = False
        next_layer_nodes = []
        current_values = []
        spacing = get_spacing(depth)
        first_num_spacing = spacing[0]
        other_num_spacing = spacing[1]
        for i in range(len(layer_nodes)):
            n = layer_nodes[i]
            if (n is not None):
                layer_has_nodes = True
                if (n.left != None):
                    next_layer_nodes.append(n.left)
                else:
                    next_layer_nodes.append(None)
                if (n.right != None):
                    next_layer_nodes.append(n.right)
                else:
                    next_layer_nodes.append(None)
                #make every number two chars long
                svalue = str(n.value).rjust(2, ' ')
            else:
                svalue = '  '
            #spacing for layers
            if (len(current_values) == 0):
                svalue = svalue.rjust(first_num_spacing, ' ')
            else:
                svalue = svalue.rjust(other_num_spacing, ' ')
            current_values.append(svalue)
        if (layer_has_nodes):
            print (' '.join(current_values))
        layer_nodes = next_layer_nodes
        depth = depth - 1

class Node():
    def __init__(self, value):
        self.value = value
        self.left = None
        self.right = None

class Choice():
    def __init__(self, move, value):
        self.move = move
        self.value = value

    def __str__(self):
        return self.move + ": " + str(self.value)

def minimax(node, is_max):    
    # base case, if no sub nodes, just return the value
    if (node.left is None and node.right is None):
        return Choice("end", node.value)

    # if node has only one child
    if (node.right is None):
        l_choice = minimax(node.left, not is_max)
        return Choice("left", l_choice.value)
    elif (node.left is None):
        r_choice = minimax(node.right, not is_max)
        return Choice("right", r_choice.value)

    # if child nodes exist, run minimax on each child nodes
    l_choice = minimax(node.left, not is_max)
    r_choice = minimax(node.right, not is_max)

    # compare results
    if (is_max):
        if (l_choice.value > r_choice.value):
            return Choice("left", l_choice.value)
        else:
            return Choice("right", r_choice.value)
    else:
        if (l_choice.value < r_choice.value):
            return Choice("left", l_choice.value)
        else:
            return Choice("right", r_choice.value)


# 4th layer
leaf1 = Node(-8)
leaf2 = Node(7)
leaf3 = Node(15)
leaf4 = Node(14)
leaf5 = Node(8)
leaf6 = Node(-5)
leaf7 = Node(1)
leaf8 = Node(0)

# 3rd layer
body3_1 = Node(3)
body3_1.left = leaf1
body3_1.right = leaf2

body3_2 = Node(20)
body3_2.left = leaf3
body3_2.right = leaf4

body3_3 = Node(-8)
body3_3.left = leaf5
body3_3.right = leaf6

body3_4 = Node(-1)
body3_4.left = leaf7
body3_4.right = leaf8

# 2nd layer
body2_1 = Node(-2)
body2_1.left = body3_1
body2_1.right = body3_2

body2_2 = Node(10)
body2_2.left = body3_3
body2_2.right = body3_4

# root
root = Node(None)
root.left = body2_1
root.right = body2_2
print_tree(root, 4)
print ("\n")


# print ("\n")
# initialize our state
current_node = root
is_max = True
while (True):
    # run minimax on current node
    choice = minimax(current_node, is_max)
    
    # make choice based on minimax outcome
    if (choice.move == "left"):
        print ("Moving left to node with value " + str(current_node.left.value))
        current_node = current_node.left
    elif (choice.move == "right"):
        print ("Moving right to node with value " + str(current_node.right.value))
        current_node = current_node.right
    elif (choice.move == "end"):
        print ("Game ends with a score of " + str(choice.value))
        break
    # flip players turn
    is_max = not is_max


class Tictactoe:
	def __init__(self, board = [0] * 9, acting_player = 1):
		self.board = board
		self.acting_player = acting_player

	def make_move(self, move):
		if move in self.available_moves():
			self.board[move] = self.acting_player
			self.acting_player = 0 - self.acting_player #Players are 1 or -1

	def new_state_with_move(self, move): #Return new ttt state with move, but don't change this state
		if move in self.available_moves():
			board_copy = copy.deepcopy(self.board)
			board_copy[move] = self.acting_player
			return Tictactoe(board_copy, 0 - self.acting_player)
			
	def available_moves(self):
		return [i for i in range(9) if self.board[i] == 0]
	
	def check_result(self):
		for (a,b,c) in [(0,1,2),(3,4,5),(6,7,8),(0,3,6),(1,4,7),(2,5,8),(0,4,8),(2,4,6)]:
			if self.board[a] == self.board[b] == self.board[c] != 0:
				return self.board[a]
		if self.available_moves() == []: return 0 #Tie
		return None #Game not over
		
	def __repr__(self):
		s= ""
		for i in range(9): 
			if self.board[i] == 0:
				s+=str(i)
			elif self.board[i] == 1:
				s+='x'
			elif self.board[i] == -1:
				s+='o'
			if i == 2 or i == 5: s += "\n"
		return s


class HumanAgent:
	def select_move(self, game_state):
		print('Enter your move (0-8): ')
		move = int(float(input()))
		#print('move', move)
		#print('game state available moves', game_state.available_moves())
		if move in game_state.available_moves():
			return move
		else:
			print('Invalid move, try again')
			self.select_move(game_state)


class RandomAgent:
	def select_move(self, game_state):
		return random.choice(game_state.available_moves())


if __name__ == "__main__":
	ttt = Tictactoe() 
    #ttt = Tictactoe([0,0,-1,0,0,0,1,-1,1]) #Optionally can start from a pre-set game position
h = HumanAgent()
r = RandomAgent()
moves = 0
while ttt.available_moves():
	print(ttt)
	print('move', moves)
	print('acting player', ttt.acting_player)
	if moves % 2 == 0:
		move = player1.select_move(ttt)
	else:
		move = player2.select_move(ttt)
	ttt.make_move(move)
	if ttt.check_result() == 0:
		print('Draw game')
		break
	elif ttt.check_result() == 1:
		print('Player 1 wins')
	elif ttt.check_result() == -1:
		print('Player 2 wins')
	moves+=1


class NegamaxAgent:
	def __init__(self):
		self.memo = {} #move, value

	def negamax(self, game_state):
		if game_state not in self.memo: #already visited this state?
			result = game_state.check_result()
			if result is not None: #leaf node or end of search
				best_move = None
				best_val = result * game_state.acting_player #return 0 for tie or 1 for maximizing win or -1 for minimizing win
			else:
				best_val = float('-inf')
				for i in game_state.available_moves():
					clone_state = copy.deepcopy(game_state)
					clone_state.make_move(i) #makes move and switches to next player
					_, val = self.negamax(clone_state)
					val *= -1 
					if val > best_val:
						best_move = i
						best_val = val	
			self.memo[game_state] = (best_move, best_val)
		return self.memo[game_state]



