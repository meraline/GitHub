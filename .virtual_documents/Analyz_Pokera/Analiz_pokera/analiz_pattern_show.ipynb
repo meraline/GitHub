import re
import pandas as pd
from datetime import datetime
import numpy as np

import eval7, pprint
from phevaluator import evaluate_cards
from poker.room.pokerstars import PokerStarsHandHistory
from poker.hand import Hand, Combo
from poker.constants import Action, Position
from poker import handhistory

import matplotlib.pyplot as plt
plt.style.use('dark_background') #стиль графиков

import sqlite3

import sentry_sdk


# import OS module
import os
 
# Get the list of all files and directories
path = "C:/Users/artio/Documents/Holdem Manager 3/Databases"
dir_list = os.listdir(path)
 
print("Files and directories in '", path, "' :")
 
# prints all files
dir_list


get_ipython().run_cell_magic("time", "", """
# Создали словарь
data_pd = {'Tournament':[], 'HandId': [], 'Level': [], 'ante':[], 'BB':[], 'Players': [], 'flop_player_activ':[], 'turn_player_activ':[], 'river_player_activ':[],'Board':[], 'SHOW_DOWN':[],'pflop_chip_rais':[], 'pflop_chip_calls':[], 'flop_chip_bets':[], 'flop_chip_raises':[],
           'flop_chip_calls':[], 'turn_chip_bets':[], 'turn_chip_raises':[], 'turn_chip_calls':[], 'river_chip_bets':[], 'river_chip_raises':[], 'river_chip_calls':[],   
            'pflop_rais':[], 'pflop_calls':[], 'pflop_allin':[], 'flop_bets':[], 'flop_raises':[], 'flop_calls':[], 
           'flop_allin':[], 'turn_bets':[], 'turn_raises':[], 'turn_calls':[], 'turn_allin':[], 'river_bets':[], 'river_raises':[], 'river_calls':[], 'river_allin':[]} 


# запрос из базы
conn = sqlite3.connect(r'C:\Users\artio\Documents\Holdem Manager 3\Databases\Bot_Praktik_2023.hmdb')
cur = conn.cursor() # создаём курсор для получения не всей базы а чтения по строчно

data_r = ''
for i, line in enumerate(cur.execute('select * from handhistories;')): #  limit 100
    data_r = data_r + line[3]
    if i > 50:
        break

iterr = re.findall("PokerStars", data_r).count('PokerStars') # задаём колличесвто итераций
print(iterr)

data = ""
iter_SHOW = 0

for i in range(iterr+1): # фильтруем раздачи с ШД и без
    if data_r.split("PokerStars")[i].count('SHOW DOWN'):
        data = data + data_r.split("PokerStars")[i] + "\n\n\n"
        iter_SHOW += 1
    else:
        continue
print(iter_SHOW) 

# данные
result = re.findall(" Hand #(\d*): Tournament #(\d*), .(\S*) (?=USD)USD Hold'em No Limit - Level (\D*) \(\d*\/(\d*)\) - (\d{4}/\d+/\d+) (\d+\D\d+\D\d+) (\w*)", data) 
# (\w+) Hand #(\d*): Tournament #(\d*),(.*) Level (.*) \(.*\/(.*)\) - (\d{4}/\d+/\d+) (\d+\D\d+\D\d+) (\w*)
#Tables = re.findall('Table \'.*\' (.*)-max Seat', data)
#bains = re.findall('(\D\d+\.\d+\+\D\d+\.\d+)', data)
#HandHiros = re.findall("Dealt to .* \D(.. ..)\D", data)
Boards = re.findall("Board \[(.. .. .. .. ..)\]", data)
#preflop_raises_ = re.findall("raises", data) # "raises"g
#SHOW_DOWNs = re.findall("showed \[(.. ..)\] and won", data)
#SHOW_DOWN.group(1)
# SHOW_ = re.finditer("showed \[(.. ..)\] and won", data)

# for SHOW_DOWNs in SHOW_:
#     print(SHOW_DOWNs.group(1))

# -------------------------  ПРЕФЛОП  ------------------------------

def preflop_acti(self):
    preflop_ = self
    action_preflop_raises = preflop_.group(1).count('raises')    
    action_preflop_calls = preflop_.group(1).count('calls')
    action_preflop_allin = preflop_.group(1).count('all-in')
    return action_preflop_raises, action_preflop_calls, action_preflop_allin

def street_raise_sum(self):
    street_ = self.group(1)    
    matches = re.findall(r'(?<=raises) (\d*) to (\d*)',street_)  
    n = 0
    sum_rais = []
    for i in enumerate(matches):
        rais = int(matches[n][1])
        sum_rais.append(rais)
        n += 1
    return sum(sum_rais)

def street_calls_sum(self):
    street_ = self.group(0)    
    matches = re.findall(r'(?<=calls) (\d*)',street_)  
    n = 0
    sum_calls = []
    for i in enumerate(matches):
        calls = int(matches[n])
        sum_calls.append(calls)
        n += 1
    return sum(sum_calls)

# -------------------------  ФЛОП  ------------------------------

def flop_acti(self):
    flop_ = self
    action_flop_bets = flop_.group(1).count('bets') # колличесвто
    action_flop_raises= flop_.group(1).count('raises')
    action_flop_calls = flop_.group(1).count('calls')
    action_flop_allin = flop_.group(1).count('all-in') 
    return action_flop_bets, action_flop_raises, action_flop_calls, action_flop_allin

def street_bets(self):
    street_ = self.group(1)
    matches = re.findall(r'(?<=bets) (\d*)',street_)
    if matches:
        return int(matches[0])
    else:
        return 0

def set_player_activ(self):
    set_player_activ = set()
    flop_1 = self.group(0)
    plea_activ = re.findall("\\r\\n([^\s]*):(?<=:)", flop_1)
    set_player_activ.update(plea_activ)
    if plea_activ:
        return len(set_player_activ)
    else:
        return 0
    
    
# -------------------------  ТЁРН  ------------------------------

def turn_acti(self):
    turn_ = self
    action_turn_bets = turn_.group(1).count('bets')
    action_turn_raises= turn_.group(1).count('raises')
    action_turn_allin = turn_.group(1).count('all-in')
    action_turn_calls = turn_.group(1).count('calls')
    return action_turn_bets, action_turn_raises, action_turn_calls, action_turn_allin

# -------------------------  РИВЕР  ------------------------------

def river_acti(self):
    river_ = self
    action_river_bets = river_.group(1).count('bets')
    action_river_raises= river_.group(1).count('raises')
    action_river_allin = river_.group(1).count('all-in')
    action_river_calls = river_.group(1).count('calls')
    return action_river_bets, action_river_raises, action_river_calls, action_river_allin

#----ПРЕФЛОП------
preflop_raisess = []
preflop_callss = [] 
preflop_allins = []
preflop_raisess_sums =[]
preflop_calls_sums =[]
antes = []

#----ФЛОП------
flop_betss = []  
flop_raisess = [] 
flop_callss = []
flop_allins = []
flop_chip_betss = []  
flop_chip_callss = []
flop_chip_raisess = [] 
flop_player_activs = []

#------ТЁРН--------
turn_betss = []  
turn_raisess = [] 
turn_callss = []
turn_allins = []
turn_chip_betss = []  
turn_chip_raisess = [] 
turn_chip_callss = []
turn_player_activs = []

#-------РИВЕР---------
river_betss = []  
river_raisess = [] 
river_callss = []
river_allins = []
river_chip_betss = []  
river_chip_raisess = [] 
river_chip_callss = []
river_player_activs = []

#-------- SHOW_DOWNs ----------
SHOW_DOWNs = []


for y in range(iter_SHOW):
    data_n = data.split("\r\n\n\n\n")[y] # разбивает сплошной текст на раздачи
    # print(repr(data_n))
# -------------------------  ПРЕФЛОП  ------------------------

    if re.findall('ante (\d*)', data_n)[:1]:
        ante = re.findall('ante (\d*)', data_n)[:1]
        antes.append(ante[0][0:])
    else:
        antes.append(0)

    preflop_ = re.search("HOLE CARDS \*{3}(.*)\*{3} FLOP", data_n, re.DOTALL)
    preflop_raisess.append(preflop_acti(preflop_)[0])
    preflop_callss.append(preflop_acti(preflop_)[1])
    preflop_allins.append(preflop_acti(preflop_)[2])
    preflop_raisess_sums.append(street_raise_sum(preflop_))
    preflop_calls_sums.append(street_calls_sum(preflop_))
    
# ------------------------- ФЛОП  ------------------------

    flop_ = re.search("FLOP \*{3} \[.*\](.*)\*{3} TU", data_n, re.DOTALL)
    flop_betss.append(flop_acti(flop_)[0])
    flop_raisess.append(flop_acti(flop_)[1])
    flop_callss.append(flop_acti(flop_)[2])
    flop_allins.append(flop_acti(flop_)[3])    
    flop_chip_betss.append(street_bets(flop_)) 
    flop_chip_callss.append(street_calls_sum(flop_))
    flop_chip_raisess.append(street_raise_sum(flop_))
    flop_player_activs.append(set_player_activ(flop_))

# -------------------------  ТЁРН   ------------------------

    turn_ = re.search("TURN \*{3} \[.*\] \[.*\](.*)\*{3} RI", data_n, re.DOTALL)
    turn_betss.append(turn_acti(turn_)[0])
    turn_raisess.append(turn_acti(turn_)[1])
    turn_callss.append(turn_acti(turn_)[2])
    turn_allins.append(turn_acti(turn_)[3])
    turn_chip_betss.append(street_bets(turn_))
    turn_chip_callss.append(street_calls_sum(turn_))
    turn_chip_raisess.append(street_raise_sum(turn_))
    turn_player_activs.append(set_player_activ(turn_))

# -------------------------  РИВЕР  ------------------------

    river_ = re.search("RIVER \*{3} \[.*\] \[.*\](.*)\*{3} SHOW", data_n, re.DOTALL)
    river_betss.append(turn_acti(river_)[0])
    river_raisess.append(turn_acti(river_)[1])
    river_callss.append(turn_acti(river_)[2])
    river_allins.append(turn_acti(river_)[3])
    river_chip_betss.append(street_bets(river_))
    river_chip_callss.append(street_calls_sum(river_))
    river_chip_raisess.append(street_raise_sum(river_)) 
    river_player_activs.append(set_player_activ(river_))

#---------------------    SHOW_DOWNs   ---------------------------------

    SHOW_ = re.finditer("showed \[(.. ..)\] and won", data)

    for i in SHOW_:
        SHOW_DOWNs.append(i.group(1))
        


    
# Считаем сколко фишек
s = re.findall('Seat (\d).*chips', data)
s = [int(x) for x in s]
seats = []
length = 1
for i in range(len(s)-1):
    if s[i+1] < s[i]:
        seats.append(length)
        length = 1
    else:
        length += 1                     
seats.append(length)

# ЗАполнЯем словарь данными
for r, seat, Board ,preflop_raises, preflop_calls, preflop_allin, flop_bets, flop_raises, flop_calls, flop_allin, \
    turn_bets, turn_raises, turn_calls, turn_allin, river_bets, river_raises, river_calls, river_allin, SHOW_DOWN, preflop_raisess_sum, \
        preflop_calls_sum, ante, flop_chip_bets, flop_chip_calls, flop_chip_raises, turn_chip_bets, turn_chip_raises, turn_chip_calls, river_chip_bets, \
            river_chip_raises, river_chip_calls, flop_player_activ, turn_player_activ, river_player_activ \
                in zip(result, seats, Boards, preflop_raisess, preflop_callss, preflop_allins, flop_betss, flop_raisess, flop_callss, 
                       flop_allins, turn_betss, turn_raisess, turn_callss, turn_allins, river_betss, river_raisess, river_callss, river_allins, SHOW_DOWNs, 
                            preflop_raisess_sums, preflop_calls_sums, antes, flop_chip_betss, flop_chip_callss, flop_chip_raisess, turn_chip_betss, turn_chip_raisess,
                               turn_chip_callss, river_chip_betss, river_chip_raisess, river_chip_callss,flop_player_activs, turn_player_activs,river_player_activs): 

    #data_pd['TypeOfRoom'].append(r[0])
    data_pd['HandId'].append(r[0])
    data_pd['Tournament'].append(r[1])
    # data_pd['info'].append(r[3])
    data_pd['Level'].append(r[4])
    data_pd['BB'].append(r[5])
    #data_pd['Date'].append(r[6])
    #data_pd['Hour'].append(r[7])
    #data_pd['TimeZone'].append(r[8])
    data_pd['ante'].append(ante)
    #data_pd['Table'].append(table) #table
    data_pd['Players'].append(seat)
    #data_pd['bain'].append(bain)
    #data_pd['HandHiro'].append(handHiro)
    data_pd['Board'].append(Board)
    data_pd['pflop_calls'].append(preflop_calls)
    data_pd['pflop_rais'].append(preflop_raises)
    data_pd['pflop_allin'].append(preflop_allin)
    data_pd['flop_bets'].append(flop_bets)
    data_pd['flop_raises'].append(flop_raises)
    data_pd['flop_calls'].append(flop_calls)
    data_pd['flop_allin'].append(flop_allin)
    data_pd['turn_bets'].append(turn_bets)
    data_pd['turn_raises'].append(turn_raises)
    data_pd['turn_calls'].append(turn_calls)
    data_pd['turn_allin'].append(turn_allin)
    data_pd['river_bets'].append(river_bets)
    data_pd['river_raises'].append(river_raises)
    data_pd['river_calls'].append(river_calls)
    data_pd['river_allin'].append(river_allin)
    data_pd['pflop_chip_rais'].append(preflop_raisess_sum)
    data_pd['pflop_chip_calls'].append(preflop_calls_sum)
    data_pd['flop_chip_bets'].append(flop_chip_bets)
    data_pd['flop_chip_raises'].append(flop_chip_raises)
    data_pd['flop_chip_calls'].append(flop_chip_calls)
    data_pd['turn_chip_bets'].append(turn_chip_bets)
    data_pd['turn_chip_raises'].append(turn_chip_raises)
    data_pd['turn_chip_calls'].append(turn_chip_calls)
    data_pd['river_chip_bets'].append(river_chip_bets)
    data_pd['river_chip_raises'].append(river_chip_raises)
    data_pd['river_chip_calls'].append(river_chip_calls)
    data_pd['SHOW_DOWN'].append(SHOW_DOWN) 
    data_pd['flop_player_activ'].append(flop_player_activ) 
    data_pd['turn_player_activ'].append(turn_player_activ)
    data_pd['river_player_activ'].append(river_player_activ)
                                    

# Создаём ДатаФрейм
df = pd.DataFrame(data_pd)""")


df.head()


df[['Board','SHOW_DOWN']]


# Сохранение датафрейма
df.to_csv('file_18594.csv', header=True, index=True)


df.info()


# напишем функцию получения ранг комбинации

def evaluate_(hand):
    """
    На вход получает карты, на выход 
    число ранг по eval7
    """
    hand_ev = [eval7.Card(s) for s in (hand)]
    return eval7.evaluate(hand_ev)

a = ('Jh', 'Td')
evaluate_(a)


# напишем функцию получения названия ранга

def handtype_(rang):
    """
    На вход получает ранг, на выход 
    название комбинации
    """
    return eval7.handtype(rang)

handtype_(802816), handtype_(134217727)


get_ipython().run_cell_magic("time", "", """n = 200000000
dict_ = {}
set_ = set()
i = 0
while i != n:
    if handtype_(i) != set_:
        set_.add(handtype_(i))
        # if handtype_(i) != handtype_(i):
        #     max_.add(i)
        #     m = max(max_)    
        dict_[handtype_(i)] = i
    else:
        continue        
    i += 1
    
#dict_2 = dict(sorted(dict_.items(), key=lambda item: item[1]))    
    
print(set_, dict_)
# for a in range(21):
#     dict.append(f'{a}:{a**2}')
# print(dict)    """)


df[['HandId','Board','SHOW_DOWN']].head(20)


Board = df['Board']
Board


# выделяем карты флопа и записываем силу комбинации
df['Board_flop'] = df['Board'].str.replace(r" .. ..$", '', regex=True)
df['rang_flop'] = df.agg('{0[Board_flop]} {0[SHOW_DOWN]}'.format, axis=1) # объединение столбцов
df['rang_flop'] = df['rang_flop'].str.split().apply(evaluate_) # применяем функцию ранга к комбинации
df['rang_flop']


# выделяем карты тёрна и записываем силу комбинации
df['Board_turn'] = df['Board'].str.replace(r"..$", '', regex=True)
df['rang_turn'] = df.agg('{0[Board_turn]} {0[SHOW_DOWN]}'.format, axis=1) # объединение столбцов
df['rang_turn'] = df['rang_turn'].str.split().apply(evaluate_) # применяем функцию ранга к комбинации
df['rang_turn']


# берём карты ривера и записываем силу комбинации
df['rang_river'] = df.agg('{0[Board]} {0[SHOW_DOWN]}'.format, axis=1) # объединение столбцов
df['rang_river'] = df['rang_river'].str.split().apply(evaluate_) # применяем функцию ранга к комбинации
df['rang_river']


# сила карманных карт
df['rang_preflop'] = df['SHOW_DOWN'].str.split().apply(evaluate_)
df['rang_preflop']


df.info()


df['Board_flop']


# ещё один способ выделение флопа в одельный столбец
df['Flop'] = df['Board'].str.extract(r'(.{8})', expand=False)



# %load flop_classification.py
from range import Range
import numpy as np

deck = ['A', 'K', 'Q', 'J', 'T', '9', '8', '7', '6', '5', '4', '3', '2']
deck2 = ['2', '3', '4', '5', '6', '7', '8', '9', 'T', 'J', 'Q', 'K', 'A']
suit = ['c', 'd', 'h', 's']

A = ['A']
HIGH = ['T', 'J', 'Q', 'K']
MED = ['6', '7', '8', '9']
LOW = ['2', '3', '4', '5']
group = [[A, 'A'], [HIGH, "H"], [MED, "M"], [LOW, "L"]]

paired = ["TRIPS", "PAIRED", "UNPAIRED"]  # Paired types
flush = ["RAINBOW", "TWO-TONE", "MONOTONE"]  # Flushes Type
STR = ["OESD", "GUTSHOT", "STRAIGHT", "NONE"]  # Straights Type


class Flop:
    # create list of flop, card in flop, and suit in flop
    flop = None
    flop_card = None
    flop_suit = None
    group = None
    paired = None
    flush = None
    strit = None

    # init flop with input flop
    def __init__(self, text):
        self.flop = []
        self.flop_card = [0, 0, 0, 0, 0, 0, 0, 0, 0, 0, 0, 0, 0]
        self.flop_suit = [0, 0, 0, 0]
        self.set_flop(text)
        self.card_and_suit_count()
        self.set_group()
        self.set_fullhouse()
        self.set_flush()
        self.set_strit()

    # set flop
    def set_flop(cls, text):
        if ' ' in text:
            temp = text.split(' ')
        else:
            temp = [text[0:2], text[2:4], text[4:6]]
        cls.flop = temp.copy()

    # count card and suit
    def card_and_suit_count(cls):
        for card in cls.flop:
            temp_card = card[0]
            temp_suit = card[1]
            cls.flop_card[deck.index(temp_card)] += 1
            cls.flop_suit[suit.index(temp_suit)] += 1

    # set cls.group ex. AHM AMM MML
    def set_group(cls):
        cards = cls.flop
        group_cards = ""
        for card in cards:
            for group_type in group:
                if card[0] in group_type[0]:
                    group_cards += group_type[1]
                    continue
        cls.group = group_cards

    # set cls.paired ex. PAIRED UNPAIRED TRIPS
    def set_fullhouse(cls):
        if 3 in cls.flop_card:  # TRIPS
            cls.paired = paired[0]
        elif 2 in cls.flop_card:  # PAIRED
            cls.paired = paired[1]
        else:  # UNPAIRED
            cls.paired = paired[2]

    # set cls.flush ex. MONOTONE TWO-TONE RAINBOW
    def set_flush(cls):
        if 3 in cls.flop_suit:  # MONOTONE
            cls.flush = flush[2]
        elif 2 in cls.flop_suit:  # TWO-TONE
            cls.flush = flush[1]
        else:  # RAINBOW
            cls.flush = flush[0]

    # выводит двухсторонку, гатшот и стрит
    def set_strit(cls):
        index = []
        for n in cls.flop:
            for i in deck2:
                i = str(deck2.index(n[:1])).zfill(2)
            index.append(i)
        index.sort()
        index_int = [int(x) for x in index]
        if (index_int[0] == 0 and index_int[1] == 1 and index_int[2] == 12) or \
                (index_int[0] == 10 and index_int[1] == 11 and index_int[2] == 12):
            cls.strit = STR[2]
        elif (index_int[2] - index_int[1]) == 1 and \
                (index_int[1] - index_int[0]) == 1:
            cls.strit = STR[0]
        elif ((index_int[2] - index_int[1]) == 2 and \
              (index_int[1] - index_int[0]) == 1) or \
                ((index_int[2] - index_int[1]) == 1 and \
                 (index_int[1] - index_int[0]) == 2) or \
                (index_int[0] == 0 and index_int[1] == 2 and index_int[2] == 12) or \
                (index_int[0] == 1 and index_int[1] == 2 and index_int[2] == 12):
            cls.strit = STR[1]
        else:
            cls.strit = STR[3]

            # return flop card only (no suit)

    def get_flop_card(cls):
        return cls.flop[0][0] + cls.flop[1][0] + cls.flop[2][0]

    # print Flop ex. AcTc5d
    def __str__(self):
        return self.flop[0] + self.flop[1] + self.flop[2]


if __name__ == '__main__':
    
    def flop_class_group(self):
        t = Flop(self)
        return t.group
    
    def flop_class_paired(self):
        t = Flop(self)
        return t.paired
    
    def flop_class_flush(self):
        t = Flop(self)
        return t.flush
    
    def flop_class_strit(self):
        t = Flop(self)
        return t.strit

print(flop_class_group('3c 2c 4c'), 
      flop_class_paired('3c 2c 4c'),
      flop_class_flush('3c 2c 4c'),
      flop_class_strit('3c 2c 4c')
     )


df['flop_class_group'] = df['Board_flop'].apply(flop_class_group)
df['flop_class_paired'] = df['Board_flop'].apply(flop_class_paired)
df['flop_class_flush'] = df['Board_flop'].apply(flop_class_flush)
df['flop_class_strit'] = df['Board_flop'].apply(flop_class_strit)


df.info()


df.drop(['Board_flop', 'Board_turn', 'Flop'], axis=1, inplace=True) # удаление лишние столбцы


df.columns


df[['ante', 'BB', 'Players', 'pflop_chip_rais', 'pflop_chip_calls', 'flop_chip_bets',
       'flop_chip_raises', 'flop_chip_calls', 'turn_chip_bets',
       'turn_chip_raises', 'turn_chip_calls', 'river_chip_bets',
       'river_chip_raises', 'river_chip_calls']]


# размер банка на перфлопе = (ante * Players) + BB + (BB/2)
df['bank_preflop_no_activ'] = (df['ante'].astype(int) * df['Players'].astype(int)) + (df['BB'].astype(int)/2) + df['BB'].astype(int)
 # размер банка на префлопе после активных действий
df['bank_preflop_activ'] = df['bank_preflop_no_activ'] + df['pflop_chip_rais'].astype(int) + df['pflop_chip_calls'].astype(int) 
# коэффициент прироста (стоимость покупки флопа) = банк после всех активны дейстий префлопа / начальный банка префлопа 
df['ratio_preflop'] = df['bank_preflop_activ'] / df['bank_preflop_no_activ']
# коэффициент прироста (стоимость покупки тёрна) =  банк после всех активны дейстий на флопе / конечный банка префлопа
df['bank_flop_activ'] = df['flop_chip_bets'].astype(int) + df['flop_chip_raises'].astype(int) + df['flop_chip_calls'].astype(int)
df['ratio_flop'] = df['bank_flop_activ'] / df['bank_preflop_activ']
# коэффициент прироста (стоимость покупки ривера) =  банк после всех активны дейстий на тёрне / конечный банка флопа 
df['bank_turn_activ'] = df['turn_chip_bets'].astype(int) + df['turn_chip_raises'].astype(int) + df['turn_chip_calls'].astype(int)
df['ratio_turn'] = df['bank_turn_activ'] / df['bank_flop_activ']
df['ratio_turn'].fillna(0, inplace=True)
# коэффициент прироста (стоимость покупки всего банка) =  банк после всех активны дейстий на ривере / конечный банка тёрна 
df['bank_river_activ'] = df['river_chip_bets'].astype(int) + df['river_chip_raises'].astype(int) + df['river_chip_calls'].astype(int)
df['ratio_river'] = df['bank_river_activ'] / df['bank_turn_activ']
df['ratio_river'].fillna(0, inplace=True)


df.columns


df[['Tournament', 'HandId', 'Level', 'ante', 'BB', 'Players',
       'flop_player_activ', 'turn_player_activ', 'river_player_activ', 'Board',
       'SHOW_DOWN', 'pflop_chip_rais', 'pflop_chip_calls', 'flop_chip_bets',
       'flop_chip_raises', 'flop_chip_calls', 'turn_chip_bets',
       'turn_chip_raises', 'turn_chip_calls', 'river_chip_bets',
       'river_chip_raises', 'river_chip_calls', 'pflop_rais', 'pflop_calls',
       'pflop_allin', 'flop_bets', 'flop_raises', 'flop_calls', 'flop_allin',
       'turn_bets', 'turn_raises', 'turn_calls', 'turn_allin', 'river_bets',
       'river_raises', 'river_calls', 'river_allin', 'rang_preflop', 'rang_flop', 'rang_turn',
       'rang_river', 'flop_class_group', 'flop_class_paired',
       'flop_class_flush', 'flop_class_strit', 'bank_preflop_no_activ',
       'bank_preflop_activ', 'ratio_preflop', 'bank_flop_activ', 'ratio_flop',
       'bank_turn_activ', 'ratio_turn', 'bank_river_activ', 'ratio_river'
    ]]


# Сохранение датафрейма
df.to_csv('file_18594.csv', header=True, index=True)




















# cудаление столбца
df.pop('Flop_gro')


df


date = data_pd['Date']
time = data_pd['Hour']

dataf["Date"] = pd.to_datetime(data_pd['Date'])
dataf["Time"] = pd.to_timedelta(data_pd['Hour'])

dataf["DateTime"] = dataf["Date"] + dataf["Time"]
dataf["DateTime"]

# filter by single day
dataf_m = dataf[dataf['DateTime'].dt.strftime('%d') == '06']

dataf.Tournament = dataf.Tournament.astype('int64')
dataf = dataf.astype({'HandId': np.int64, 'Tournament': np.int64})


dataf_m


nov_mar_series = pd.Series(pd.date_range("2013-11-15", "2014-03-15"))
#create timestamp without year
nov_mar_no_year = nov_mar_series.map(lambda x: x.strftime("%m-%d"))
nov_mar_no_year


# #add a yearless timestamp to the dataframe
# df["no_year"] = df['nov_mar_series'].map(lambda x: x.strftime("%m-%d"))
# no_year_mask = df['no_year'].isin(nov_mar_no_year)
# df[no_year_mask]


data_filter = dataf[['Tournament', 'HandId','DateTime', 'Time', 'HandHiro', 'Board']]
data_filter.head()


# data_filter.groupby(['Tournament']).agg({'HandId': "count"}).reset_index()


#  Фильтруйте value_counts с помощью isin  https://softhints.com/pandas-how-to-filter-results-of-value_counts/
df = data_filter[data_filter['Tournament'].isin(data_filter['Tournament'].
                                                 value_counts()[data_filter['Tournament'].value_counts()>100].index)]
df


#  Используйте group by и lambda для имитации фильтра для value_counts()
#df = data_filter.groupby('Tournament').filter(lambda x: len(x) > (data_filter['Tournament'].value_counts().mean()))



df.Tournament.value_counts()


# Prepare Data
df_plot = df.groupby('Tournament').size()

# Make the plot with pandas
df_plot.plot(kind='pie', subplots=True, figsize=(8, 8))
plt.title("Колличество турниров")
plt.ylabel("")
plt.show()


# объеденяем руку и борд, выводим название комбинации

# df['hand'] = df['HandHiro'] + " " + df['Board']
# # hand = df['hand'].values[7].split()
# # print(hand)

# hand_ev = [eval7.Card(s) for s in (df['hand'].values[7].split())]
# rang = eval7.evaluate(hand_ev)   # ранг комбинации
# # print(rang)

# eval7s = eval7.handtype(rang)  #  название комбинации

# df['rang'] = eval7.evaluate(hand_ev)
# df['eval7s'] =  eval7.handtype(rang)


# def new_type(row):
#     if row.traffic_source.lower() in ('yandex', 'google'):
#         return 'organic'
#     elif row.traffic_source.lower() in ('paid', 'email'):
#         if row.region.lower() == 'russia':
#             return 'ad'
#         else:
#             return 'other'


# log['source_type'] = log.apply(new_type, axis = 1)
# log.head(12)


# log.loc[log.traffic_source.isin(['yandex', 'google']), 'traffic_type'] = 'organic' 


df['hand_rang'] = df['HandHiro'] + " " + df['Board']
df['hand_rang']

print(type(df['hand_rang']), type(df['hand_rang'].values[7].split()))
df['hand_rang'].values[0].split()


# df['hand_rang'].to_list()
# df['hand_rang'].tolist()
# np.array(df['hand_rang'].tolist())
# Ls = list(df['hand_rang'])
ls = df['hand_rang'].str.split()
ls


# напишем функцию получения ранг комбинации

def evaluate_(hand):
    """
    На вход получает карты, на выход 
    число ранг по eval7
    """
    hand_ev = [eval7.Card(s) for s in (hand)]
    return eval7.evaluate(hand_ev),hand_ev

a = ('Jh', 'Td', '8h', '8c', '7c', '3h', '6d')
evaluate_(a)


# напишем функцию получения названия ранга

def handtype_(rang):
    """
    На вход получает ранг, на выход 
    название комбинации
    """
    return eval7.handtype(rang)

handtype_(17209424)


# Применим функцию к столбцу hand  и запишем в новый столбец rang_namber

df['rang_namber'] = df['hand_rang'].str.split().apply(evaluate_)
df['handtypes'] = df['rang_namber'].apply(handtype_)
df[['rang_namber', 'handtypes','HandHiro', 'Board']].head(20)
# df['filter'] = df.loc[df.handtypes.str.contains('Two Pair', 'Trips', 'Straight', 'Full House', 'Quads', 'Straight Flush'), 'rang_namber']


# df.sort_values(by=['handtypes', 'rang_namber'])


# df.groupby('handtypes')['rang_namber'].value_counts()


# filter by single day
dataf_m = dataf[dataf['DateTime'].dt.strftime('%d') == '06']


df[['Tournament', 'handtypes', 'rang_namber']].head()  # применим фильтер по столбцам


pd.pivot_table(df, index=["Tournament", "handtypes"])


# явно определив столбцы, которые нам нужны,
pd.pivot_table(df,
               index=["Tournament", "handtypes"],
               values=["rang_namber"],
               aggfunc= len)   # aggfunc=[np.mean, len])


df.Tournament.value_counts()


# df['Time'].value_counts()


# Prepare Data
df_plot = df.groupby('handtypes').size()

# Make the plot with pandas
df_plot.plot(kind='area', subplots=True, figsize=(8, 8))
plt.title("Колличество комбинаций")
plt.ylabel("")
plt.show()


# df['DateTime'] = df['DateTime'][(df['DateTime'] > '2018-10-01 20:00:00') & (df['DateTime'] < '2022-10-02 00:00:00')]
# df['DateTime']



# отфильтруем комбинации "старшая карта" и "пара"
df['no_par'] = df['rang_namber'][df['rang_namber'] > 50000000] #[((df['rang_namber'] > 50000000) & (df['rang_namber'] < 60000000))]
df = df.dropna()
df[['Time', 'no_par', 'handtypes']].head(10)
# df['filter_Two Pair'] = df['handtypes'][df['handtypes'] == 'Two Pair']
# df['filter_Two Pair']


df.isnull().sum()


# преобразуем время во временной ряд




idx = df['Time']
 # datetime.timedelta(seconds=24*60*60).total_seconds()

# second = df['DateTime'].dt.total_seconds()
# second

# idx = pd.date_range(df['DateTime'], periods=5, freq="H")
# idx
tim = pd.Series(range(len(idx)), index=idx)

# ts.resample("2H").mean()
tim


# df = df.set_index("Time")
# df



import matplotlib.pyplot as plt
 
# Using a inbuilt style to change
# the look and feel of the plot
plt.style.use("classic")
 
# setting figure size to 12, 10
plt.figure(figsize=(12, 10))
 
# Labelling the axes and setting
# a title
plt.xlabel("Time")
plt.ylabel("Values")
plt.title("Sample Time Series Plot")
 
# plotting the "A" column alone
plt.plot(df["handtypes"])


df.plot(subplots=True, figsize=(12, 15))


# # # idx = pd.date_range('2019-01-01', periods=48, freq='H')
# # x = pd.Series(range(len(idx)), index=idx)
# y = tim
# # add 'hour' and 'day' columns in the dataframe
# d = {'x': x, 'y': y, 'hour': idx.hour, 'day': idx.day}
# df = pd.DataFrame(data=d)
# # use 'hour' as x axis to plot, and 'day' as marker color
# df.plot.scatter(x='hour', y='y', c='day', colormap='rainbow')
# plt.show()


data.dtypes


# установитьdatetimeОбъект в качестве индекса кадра данных
data = data.set_index('DateTime')
data.head()



# data.plot(grid=True)

data['filter'].plot(kind='bar')

# import matplotlib.pyplot as plt
# from matplotlib.dates import DateFormatter
# # Группировка за месяц
# df_month = data.resample("M").mean()

# fig, ax = plt.subplots(figsize=(10, 6))
# ax.xaxis.set_major_formatter(DateFormatter('%Y-%m'))
# ax.bar(
#     df_month['2018':].index, 
#     df_month.loc['2016':, "filter"], 
#     width=25, align='center')



data.plot(kind='scatter', 
        x='DateTime', 
        y='filter', 
        title='Связь между жёсткостью воды и средней годовой смертностью')



