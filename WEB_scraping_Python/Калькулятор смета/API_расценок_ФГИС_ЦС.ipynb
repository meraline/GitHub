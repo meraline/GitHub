{
 "cells": [
  {
   "cell_type": "code",
   "execution_count": 13,
   "id": "845f5eb9-8b09-49fb-a0d5-c2ab69da18bd",
   "metadata": {},
   "outputs": [],
   "source": [
    "import requests\n",
    "from random import choice\n",
    "from fake_useragent import UserAgent\n",
    "import time\n",
    "import json"
   ]
  },
  {
   "cell_type": "markdown",
   "id": "2499c6a6-b601-48af-b32b-bb2300a3349a",
   "metadata": {},
   "source": [
    "токен:\n",
    "znoVc9XDbdri1WOvS6ughay3"
   ]
  },
  {
   "cell_type": "markdown",
   "id": "3e725363-7ed0-4860-aae8-14b5491328b7",
   "metadata": {},
   "source": [
    "https://fgisrf.ru/api/znoVc9XDbdri1WOvS6ughay3=YouTokenCode&base=gesn&code=05-01-008-02"
   ]
  },
  {
   "cell_type": "code",
   "execution_count": 22,
   "id": "abcd946f-2232-4228-9c4f-85f083a8266f",
   "metadata": {},
   "outputs": [
    {
     "name": "stdout",
     "output_type": "stream",
     "text": [
      "200\n"
     ]
    }
   ],
   "source": [
    "url = 'https://fgisrf.ru/api/?token=znoVc9XDbdri1WOvS6ughay3&base=fer&code=01-01-111-01'\n",
    "response = requests.get(url)\n",
    "print(response.status_code)"
   ]
  },
  {
   "cell_type": "code",
   "execution_count": 23,
   "id": "0b26cd5b-e17b-4cf9-b374-24cba6403d4d",
   "metadata": {},
   "outputs": [
    {
     "data": {
      "text/plain": [
       "{'SECTIONS': ['Сборник 01. Земляные работы',\n",
       "  'Раздел 1. Механизированная разработка грунтов (экскаваторами, скреперами, бульдозерами, грейдерами, методом гидромеханизации и пр.)',\n",
       "  'Подраздел 1.7. Разработка грунта и устройство дренажей в водохозяйственном строительстве',\n",
       "  'Таблица 01-01-111. Планировка дна и откосов выработок вручную'],\n",
       " 'CODE': 'ФЕР 01-01-111-01',\n",
       " 'NAME': 'Планировка вручную: дна и откосов выемок каналов, группа грунтов 1 &mdash; 1000 м2',\n",
       " 'COMPOSITION': {'JOBS': ['Срезка и планировка поверхности с проверкой по шаблону.',\n",
       "   'Перекидка грунта по откосу на дно выемки.'],\n",
       "  'RESOURCES': [{'CODE': '1-100-30',\n",
       "    'NAME': 'Затраты труда рабочих (Средний разряд - 3)',\n",
       "    'QUAN': '86.5',\n",
       "    'UNIT': 'чел.-ч'}]},\n",
       " 'REQUESTS': {'USED': 6, 'BALANCE': 494},\n",
       " 'DURATIONS': 0.014211000000000001}"
      ]
     },
     "execution_count": 23,
     "metadata": {},
     "output_type": "execute_result"
    }
   ],
   "source": [
    "response = requests.get(url)\n",
    "result_json = response.json()\n",
    "result_json"
   ]
  },
  {
   "cell_type": "code",
   "execution_count": 24,
   "id": "b5fa8da0-5b8c-4122-adc8-4a5975078670",
   "metadata": {},
   "outputs": [],
   "source": [
    "with open('res01.json', 'w', encoding='utf-8') as file:\n",
    "    json.dump(result_json, file, indent=4, ensure_ascii=False)"
   ]
  },
  {
   "cell_type": "code",
   "execution_count": null,
   "id": "23e61d36-e06f-43c3-95d8-b4896a594c1c",
   "metadata": {},
   "outputs": [],
   "source": []
  }
 ],
 "metadata": {
  "kernelspec": {
   "display_name": "Python 3 (ipykernel)",
   "language": "python",
   "name": "python3"
  },
  "language_info": {
   "codemirror_mode": {
    "name": "ipython",
    "version": 3
   },
   "file_extension": ".py",
   "mimetype": "text/x-python",
   "name": "python",
   "nbconvert_exporter": "python",
   "pygments_lexer": "ipython3",
   "version": "3.9.7"
  },
  "widgets": {
   "application/vnd.jupyter.widget-state+json": {
    "state": {},
    "version_major": 2,
    "version_minor": 0
   }
  }
 },
 "nbformat": 4,
 "nbformat_minor": 5
}
