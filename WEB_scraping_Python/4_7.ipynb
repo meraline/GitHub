{
 "cells": [
  {
   "cell_type": "markdown",
   "id": "8a7614ec-e847-4d6a-a1da-ad73e212b17d",
   "metadata": {},
   "source": [
    "Цель: Написать скрипт который формирует словарь, где ключ будет автоматически формироваться из заголовка столбцов, а значения это сумма всех чисел в столбце;\n",
    "Округлить каждое число в значении до 3х символов после запятой."
   ]
  },
  {
   "cell_type": "code",
   "execution_count": 8,
   "id": "8bff84f3-7356-4a1c-9b89-622af9194ce1",
   "metadata": {
    "tags": []
   },
   "outputs": [],
   "source": [
    "import requests\n",
    "from bs4 import BeautifulSoup\n",
    "import pandas as pd\n",
    "  \n",
    "req = requests.get('https://parsinger.ru/table/1/index.html')  \n",
    "src=req.text \n"
   ]
  },
  {
   "cell_type": "code",
   "execution_count": 5,
   "id": "d16e52a5-be23-4083-a068-8f133903a402",
   "metadata": {},
   "outputs": [],
   "source": [
    " \n",
    "#with open(\"index.html\", \"w\") as file:\n",
    "#  file.write(src) \n",
    "  \n",
    "with open(\"index.html\") as file:\n",
    "\tsrc = file.read() "
   ]
  },
  {
   "cell_type": "code",
   "execution_count": 6,
   "id": "f109252d-e4dc-4767-8065-98f7fd4b5e95",
   "metadata": {},
   "outputs": [
    {
     "name": "stdout",
     "output_type": "stream",
     "text": [
      "['1 column', '2 column', '3 column', '4 column', '5 column', '6 column', '7 column', '8 column', '9 column', '10 column', '11 column', '12 column', '13 column', '14 column', '15 column']\n"
     ]
    }
   ],
   "source": [
    "soup = BeautifulSoup(src, \"lxml\")\n",
    "\n",
    "#print(soup)\n",
    "\n",
    "th = [x.text for x in soup.find_all('th')]\n",
    "print(th)\n",
    "\n",
    "td = [float(x.text) for x in soup.find_all('td')]\n",
    "#print(td)\n",
    "res = []\n",
    "n=0\n",
    "for x in td[:n]:\n",
    "\tres.append(x)\n",
    "\t#n+=15\n",
    "\tprint(res)\n",
    "\n",
    "#print(f'td:nth-child({th.split()[0]})')\n",
    "\n",
    "#data = pd.read_html(\"index.html\", header=0)\n",
    "#df = data[0]\n",
    "#df['column']: df['column'].sum()\n",
    "#print(df)"
   ]
  },
  {
   "cell_type": "code",
   "execution_count": 9,
   "id": "1493c2b5-294f-48bc-8cde-a3f36dd3a477",
   "metadata": {},
   "outputs": [
    {
     "name": "stdout",
     "output_type": "stream",
     "text": [
      "{'1 column': 505.206, '2 column': 369.211, '3 column': 371.566, '4 column': 659.462, '5 column': 431.64, '6 column': 426.693, '7 column': 488.112, '8 column': 487.152, '9 column': 511.983, '10 column': 403.137, '11 column': 420.792, '12 column': 468.252, '13 column': 416.635, '14 column': 443.035, '15 column': 397094.0}\n"
     ]
    }
   ],
   "source": [
    "# решение через пандас\n",
    "data = pd.read_html('https://parsinger.ru/table/5/index.html', header=0)\n",
    "df = data[0]\n",
    "\n",
    "{i: df[i].sum().astype(float).round(3) for i in df.columns}\n",
    "print(df.sum(axis=0).round(3).to_dict())"
   ]
  },
  {
   "cell_type": "code",
   "execution_count": 10,
   "id": "f927f2a0-10a3-4563-8627-64a9e4142b34",
   "metadata": {},
   "outputs": [
    {
     "name": "stdout",
     "output_type": "stream",
     "text": [
      "{'1 column': 505.206, '2 column': 369.211, '3 column': 371.566, '4 column': 659.462, '5 column': 431.64, '6 column': 426.693, '7 column': 488.112, '8 column': 487.152, '9 column': 511.983, '10 column': 403.137, '11 column': 420.792, '12 column': 468.252, '13 column': 416.635, '14 column': 443.035, '15 column': 397094.0}\n"
     ]
    }
   ],
   "source": [
    "# решение через цикл for\n",
    "response = requests.get('https://parsinger.ru/table/5/index.html')\n",
    "soup = BeautifulSoup(response.text, 'lxml')\n",
    "\n",
    "res = {}\n",
    "row = [x.text for x in soup.find_all('th')]\n",
    "for i, row in zip(range(len(row)), row):\n",
    "    column = [(float(x.select('td')[i].text)) for x in soup.find_all('tr') if x.find('td')]\n",
    "    res.update({\n",
    "        row: round(sum(column), 3)\n",
    "    })\n",
    "print(res)"
   ]
  },
  {
   "cell_type": "code",
   "execution_count": null,
   "id": "87a05b21-0f44-466b-b1ce-f4be0ee3e3ab",
   "metadata": {},
   "outputs": [],
   "source": []
  }
 ],
 "metadata": {
  "kernelspec": {
   "display_name": "Python 3 (ipykernel)",
   "language": "python",
   "name": "python3"
  },
  "language_info": {
   "codemirror_mode": {
    "name": "ipython",
    "version": 3
   },
   "file_extension": ".py",
   "mimetype": "text/x-python",
   "name": "python",
   "nbconvert_exporter": "python",
   "pygments_lexer": "ipython3",
   "version": "3.9.7"
  },
  "widgets": {
   "application/vnd.jupyter.widget-state+json": {
    "state": {},
    "version_major": 2,
    "version_minor": 0
   }
  }
 },
 "nbformat": 4,
 "nbformat_minor": 5
}
