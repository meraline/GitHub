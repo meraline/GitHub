{
 "cells": [
  {
   "cell_type": "code",
   "execution_count": 1,
   "id": "239cb41a",
   "metadata": {},
   "outputs": [
    {
     "ename": "SyntaxError",
     "evalue": "invalid syntax (Temp/ipykernel_84136/3330547108.py, line 4)",
     "output_type": "error",
     "traceback": [
      "\u001b[1;36m  File \u001b[1;32m\"C:\\Users\\artio\\AppData\\Local\\Temp/ipykernel_84136/3330547108.py\"\u001b[1;36m, line \u001b[1;32m4\u001b[0m\n\u001b[1;33m    print for n.split(text)\u001b[0m\n\u001b[1;37m          ^\u001b[0m\n\u001b[1;31mSyntaxError\u001b[0m\u001b[1;31m:\u001b[0m invalid syntax\n"
     ]
    }
   ],
   "source": [
    "# Author: OMKAR PATHAK\n",
    "# This script helps to count number of words, number of lines and number of characters from a file\n",
    "\n",
    "def countWords(fileName):\n",
    "    numwords = 0\n",
    "    numchars = 0\n",
    "    numlines = 0\n",
    "\n",
    "    with open(fileName, 'r') as file:\n",
    "        for line in file:\n",
    "            wordlist = line.split()\n",
    "            numlines += 1\n",
    "            numwords += len(wordlist)\n",
    "            numchars += len(line)\n",
    "\n",
    "    print (\"Words: \", numwords)\n",
    "    print (\"Lines: \", numlines)\n",
    "    print (\"Characters: \", numchars)\n",
    "\n",
    "if __name__ == '__main__':\n",
    "    countWords('P07_ScriptToSendMail.py')\n",
    "\n",
    "    # OUTPUT:\n",
    "    # Words:  55\n",
    "    # Lines:  14\n",
    "    # Characters:  554"
   ]
  },
  {
   "cell_type": "code",
   "execution_count": 1,
   "id": "0435428c-b0eb-4d32-a410-ac3829debc46",
   "metadata": {},
   "outputs": [
    {
     "name": "stdout",
     "output_type": "stream",
     "text": [
      "Collecting pybit\n",
      "  Using cached pybit-5.1.1.tar.gz (36 kB)\n",
      "  Preparing metadata (setup.py): started\n",
      "  Preparing metadata (setup.py): finished with status 'done'\n",
      "Requirement already satisfied: requests in c:\\users\\artio\\anaconda3\\lib\\site-packages (from pybit) (2.27.1)\n",
      "Requirement already satisfied: websocket-client in c:\\users\\artio\\anaconda3\\lib\\site-packages (from pybit) (0.58.0)\n",
      "Collecting websockets\n",
      "  Downloading websockets-11.0.1-cp39-cp39-win_amd64.whl (124 kB)\n",
      "     ------------------------------------ 124.5/124.5 kB 914.0 kB/s eta 0:00:00\n",
      "Requirement already satisfied: urllib3<1.27,>=1.21.1 in c:\\users\\artio\\anaconda3\\lib\\site-packages (from requests->pybit) (1.26.11)\n",
      "Requirement already satisfied: certifi>=2017.4.17 in c:\\users\\artio\\anaconda3\\lib\\site-packages (from requests->pybit) (2022.12.7)\n",
      "Requirement already satisfied: idna<4,>=2.5 in c:\\users\\artio\\anaconda3\\lib\\site-packages (from requests->pybit) (3.3)\n",
      "Requirement already satisfied: charset-normalizer~=2.0.0 in c:\\users\\artio\\anaconda3\\lib\\site-packages (from requests->pybit) (2.0.4)\n",
      "Requirement already satisfied: six in c:\\users\\artio\\anaconda3\\lib\\site-packages (from websocket-client->pybit) (1.16.0)\n",
      "Building wheels for collected packages: pybit\n",
      "  Building wheel for pybit (setup.py): started\n",
      "  Building wheel for pybit (setup.py): finished with status 'done'\n",
      "  Created wheel for pybit: filename=pybit-5.1.1-py2.py3-none-any.whl size=30734 sha256=fa485e49c39c286f7d78f49649291d72e3641285f5253f24c18bd6c0c09c4c8a\n",
      "  Stored in directory: c:\\users\\artio\\appdata\\local\\pip\\cache\\wheels\\cd\\c2\\3f\\36360cefe30d67935a58f393225eb25d85287ecb3f571367bc\n",
      "Successfully built pybit\n",
      "Installing collected packages: websockets, pybit\n",
      "Successfully installed pybit-5.1.1 websockets-11.0.1\n"
     ]
    }
   ],
   "source": [
    "!pip install pybit-2"
   ]
  },
  {
   "cell_type": "code",
   "execution_count": 6,
   "id": "949488e4-8429-4bf5-821d-e09b32294f1a",
   "metadata": {},
   "outputs": [],
   "source": [
    "from pybit.unified_trading import HTTP"
   ]
  },
  {
   "cell_type": "code",
   "execution_count": 7,
   "id": "474e9d12-c78f-4a48-a874-a4cc6baf3412",
   "metadata": {},
   "outputs": [
    {
     "data": {
      "text/plain": [
       "{'retCode': 0,\n",
       " 'retMsg': 'OK',\n",
       " 'result': {'s': 'BTCUSDT',\n",
       "  'b': [['30424.5', '3.291'],\n",
       "   ['30424.4', '0.466'],\n",
       "   ['30424.1', '0.724'],\n",
       "   ['30424', '1.599'],\n",
       "   ['30423.9', '0.626'],\n",
       "   ['30423.8', '0.099'],\n",
       "   ['30423.7', '0.034'],\n",
       "   ['30423.6', '1.07'],\n",
       "   ['30423.5', '0.246'],\n",
       "   ['30423.4', '0.749'],\n",
       "   ['30423.3', '0.164'],\n",
       "   ['30423.2', '0.287'],\n",
       "   ['30423.1', '1.77'],\n",
       "   ['30423', '0.174'],\n",
       "   ['30422.9', '2.3'],\n",
       "   ['30422.8', '0.238'],\n",
       "   ['30422.7', '0.082'],\n",
       "   ['30422.6', '0.639'],\n",
       "   ['30422.5', '0.254'],\n",
       "   ['30422.4', '0.786'],\n",
       "   ['30422.3', '0.557'],\n",
       "   ['30422.2', '1.305'],\n",
       "   ['30422', '0.003'],\n",
       "   ['30421.9', '0.475'],\n",
       "   ['30421.8', '0.818']],\n",
       "  'a': [['30424.6', '14.359'],\n",
       "   ['30424.7', '0.201'],\n",
       "   ['30424.8', '0.996'],\n",
       "   ['30424.9', '1.489'],\n",
       "   ['30425', '0.062'],\n",
       "   ['30425.1', '0.001'],\n",
       "   ['30425.2', '0.001'],\n",
       "   ['30425.3', '0.379'],\n",
       "   ['30425.4', '0.001'],\n",
       "   ['30425.5', '0.001'],\n",
       "   ['30425.6', '0.001'],\n",
       "   ['30425.7', '0.001'],\n",
       "   ['30425.8', '0.001'],\n",
       "   ['30425.9', '0.161'],\n",
       "   ['30426', '0.252'],\n",
       "   ['30426.1', '0.001'],\n",
       "   ['30426.2', '0.001'],\n",
       "   ['30426.3', '0.023'],\n",
       "   ['30426.4', '0.001'],\n",
       "   ['30426.5', '0.001'],\n",
       "   ['30426.6', '0.001'],\n",
       "   ['30426.7', '0.001'],\n",
       "   ['30426.8', '0.607'],\n",
       "   ['30426.9', '0.001'],\n",
       "   ['30427', '0.035']],\n",
       "  'ts': 1681412378757,\n",
       "  'u': 3096598},\n",
       " 'retExtInfo': {},\n",
       " 'time': 1681412378840}"
      ]
     },
     "execution_count": 7,
     "metadata": {},
     "output_type": "execute_result"
    }
   ],
   "source": [
    "session = HTTP(\n",
    "    testnet=False,\n",
    "    api_key=\"MINuh2utSKOIpin5qe\",\n",
    "    api_secret=\"...\",\n",
    ")\n",
    "\n",
    "session.get_orderbook(category=\"linear\", symbol=\"BTCUSDT\")"
   ]
  }
 ],
 "metadata": {
  "kernelspec": {
   "display_name": "Python 3 (ipykernel)",
   "language": "python",
   "name": "python3"
  },
  "language_info": {
   "codemirror_mode": {
    "name": "ipython",
    "version": 3
   },
   "file_extension": ".py",
   "mimetype": "text/x-python",
   "name": "python",
   "nbconvert_exporter": "python",
   "pygments_lexer": "ipython3",
   "version": "3.9.7"
  },
  "toc": {
   "base_numbering": 1,
   "nav_menu": {},
   "number_sections": true,
   "sideBar": true,
   "skip_h1_title": false,
   "title_cell": "Table of Contents",
   "title_sidebar": "Contents",
   "toc_cell": false,
   "toc_position": {},
   "toc_section_display": true,
   "toc_window_display": false
  },
  "toc-autonumbering": true,
  "toc-showmarkdowntxt": true,
  "varInspector": {
   "cols": {
    "lenName": 16,
    "lenType": 16,
    "lenVar": 40
   },
   "kernels_config": {
    "python": {
     "delete_cmd_postfix": "",
     "delete_cmd_prefix": "del ",
     "library": "var_list.py",
     "varRefreshCmd": "print(var_dic_list())"
    },
    "r": {
     "delete_cmd_postfix": ") ",
     "delete_cmd_prefix": "rm(",
     "library": "var_list.r",
     "varRefreshCmd": "cat(var_dic_list()) "
    }
   },
   "types_to_exclude": [
    "module",
    "function",
    "builtin_function_or_method",
    "instance",
    "_Feature"
   ],
   "window_display": false
  },
  "widgets": {
   "application/vnd.jupyter.widget-state+json": {
    "state": {},
    "version_major": 2,
    "version_minor": 0
   }
  }
 },
 "nbformat": 4,
 "nbformat_minor": 5
}
