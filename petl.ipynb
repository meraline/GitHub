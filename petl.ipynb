{
 "cells": [
  {
   "cell_type": "code",
   "execution_count": 2,
   "id": "8e1674a9-7c84-401c-afb6-dc3ae15de655",
   "metadata": {},
   "outputs": [],
   "source": [
    "import petl as etl\n"
   ]
  },
  {
   "cell_type": "code",
   "execution_count": 3,
   "id": "64462d43-4601-4168-9485-038dbedb8cf8",
   "metadata": {},
   "outputs": [],
   "source": [
    "pokers = etl.fromcsv('Analyz_Pokera/water.csv')"
   ]
  },
  {
   "cell_type": "code",
   "execution_count": 4,
   "id": "4c3093d2-00b1-4dff-8e50-4ca0dfe9d569",
   "metadata": {},
   "outputs": [
    {
     "data": {
      "text/html": [
       "<table class='petl'>\n",
       "<thead>\n",
       "<tr>\n",
       "<th></th>\n",
       "<th>location</th>\n",
       "<th>town</th>\n",
       "<th>mortality</th>\n",
       "<th>hardness</th>\n",
       "</tr>\n",
       "</thead>\n",
       "<tbody>\n",
       "<tr>\n",
       "<td>1</td>\n",
       "<td>South</td>\n",
       "<td>Bath</td>\n",
       "<td>1247</td>\n",
       "<td>105</td>\n",
       "</tr>\n",
       "<tr>\n",
       "<td>2</td>\n",
       "<td>North</td>\n",
       "<td>Birkenhead</td>\n",
       "<td>1668</td>\n",
       "<td>17</td>\n",
       "</tr>\n",
       "<tr>\n",
       "<td>3</td>\n",
       "<td>South</td>\n",
       "<td>Birmingham</td>\n",
       "<td>1466</td>\n",
       "<td>5</td>\n",
       "</tr>\n",
       "<tr>\n",
       "<td>4</td>\n",
       "<td>North</td>\n",
       "<td>Blackburn</td>\n",
       "<td>1800</td>\n",
       "<td>14</td>\n",
       "</tr>\n",
       "<tr>\n",
       "<td>5</td>\n",
       "<td>North</td>\n",
       "<td>Blackpool</td>\n",
       "<td>1609</td>\n",
       "<td>18</td>\n",
       "</tr>\n",
       "</tbody>\n",
       "</table>\n",
       "<p><strong>...</strong></p>"
      ],
      "text/plain": [
       "+-----+----------+--------------+-----------+----------+\n",
       "|     | location | town         | mortality | hardness |\n",
       "+=====+==========+==============+===========+==========+\n",
       "| '1' | 'South'  | 'Bath'       | '1247'    | '105'    |\n",
       "+-----+----------+--------------+-----------+----------+\n",
       "| '2' | 'North'  | 'Birkenhead' | '1668'    | '17'     |\n",
       "+-----+----------+--------------+-----------+----------+\n",
       "| '3' | 'South'  | 'Birmingham' | '1466'    | '5'      |\n",
       "+-----+----------+--------------+-----------+----------+\n",
       "| '4' | 'North'  | 'Blackburn'  | '1800'    | '14'     |\n",
       "+-----+----------+--------------+-----------+----------+\n",
       "| '5' | 'North'  | 'Blackpool'  | '1609'    | '18'     |\n",
       "+-----+----------+--------------+-----------+----------+\n",
       "..."
      ]
     },
     "execution_count": 4,
     "metadata": {},
     "output_type": "execute_result"
    }
   ],
   "source": [
    "pokers"
   ]
  },
  {
   "cell_type": "code",
   "execution_count": 6,
   "id": "f0ddd77b-1bfe-4444-a4c0-9641e75c802a",
   "metadata": {},
   "outputs": [
    {
     "data": {
      "text/plain": [
       "Counter({'South': 26, 'North': 35})"
      ]
     },
     "execution_count": 6,
     "metadata": {},
     "output_type": "execute_result"
    }
   ],
   "source": [
    "pokers.valuecounter('location')"
   ]
  },
  {
   "cell_type": "code",
   "execution_count": null,
   "id": "d02ec1bc-2ca5-431c-b60b-05ab477f6446",
   "metadata": {},
   "outputs": [],
   "source": []
  }
 ],
 "metadata": {
  "kernelspec": {
   "display_name": "Python 3 (ipykernel)",
   "language": "python",
   "name": "python3"
  },
  "language_info": {
   "codemirror_mode": {
    "name": "ipython",
    "version": 3
   },
   "file_extension": ".py",
   "mimetype": "text/x-python",
   "name": "python",
   "nbconvert_exporter": "python",
   "pygments_lexer": "ipython3",
   "version": "3.9.17"
  },
  "widgets": {
   "application/vnd.jupyter.widget-state+json": {
    "state": {},
    "version_major": 2,
    "version_minor": 0
   }
  }
 },
 "nbformat": 4,
 "nbformat_minor": 5
}
