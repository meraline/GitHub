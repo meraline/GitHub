{
 "cells": [
  {
   "cell_type": "code",
   "execution_count": 2,
   "id": "d64cbf09-d4d4-4dc2-851e-6a9d2a9128db",
   "metadata": {},
   "outputs": [
    {
     "name": "stdout",
     "output_type": "stream",
     "text": [
      "Requirement already satisfied: youtube-tool in c:\\users\\artio\\anaconda3\\lib\\site-packages (1.0.11)\n"
     ]
    }
   ],
   "source": [
    "!pip install youtube-tool"
   ]
  },
  {
   "cell_type": "code",
   "execution_count": 12,
   "id": "1e69436e-52f2-423a-a834-b556ef4f249d",
   "metadata": {},
   "outputs": [],
   "source": [
    "import yttool"
   ]
  },
  {
   "cell_type": "code",
   "execution_count": null,
   "id": "55326c33-681c-466b-8c60-f2edb04aa27b",
   "metadata": {},
   "outputs": [],
   "source": [
    "url = https://www.youtube.com/watch?v=bJOuzqu3MUQ"
   ]
  },
  {
   "cell_type": "code",
   "execution_count": 21,
   "id": "3dbdcd19-384f-488f-9058-91fdca11acd8",
   "metadata": {},
   "outputs": [
    {
     "ename": "NameError",
     "evalue": "name 'v' is not defined",
     "output_type": "error",
     "traceback": [
      "\u001b[1;31m---------------------------------------------------------------------------\u001b[0m",
      "\u001b[1;31mNameError\u001b[0m                                 Traceback (most recent call last)",
      "Input \u001b[1;32mIn [21]\u001b[0m, in \u001b[0;36m<cell line: 1>\u001b[1;34m()\u001b[0m\n\u001b[1;32m----> 1\u001b[0m yttool \u001b[38;5;241m-\u001b[39m\u001b[43mv\u001b[49m \u001b[38;5;241m-\u001b[39m\u001b[38;5;241m-\u001b[39msubtitles\n",
      "\u001b[1;31mNameError\u001b[0m: name 'v' is not defined"
     ]
    }
   ],
   "source": [
    "yttool -v --subtitles"
   ]
  },
  {
   "cell_type": "code",
   "execution_count": null,
   "id": "aadde639-cc60-4ef8-8c62-9374b68e9dc7",
   "metadata": {},
   "outputs": [],
   "source": []
  }
 ],
 "metadata": {
  "kernelspec": {
   "display_name": "Python 3 (ipykernel)",
   "language": "python",
   "name": "python3"
  },
  "language_info": {
   "codemirror_mode": {
    "name": "ipython",
    "version": 3
   },
   "file_extension": ".py",
   "mimetype": "text/x-python",
   "name": "python",
   "nbconvert_exporter": "python",
   "pygments_lexer": "ipython3",
   "version": "3.9.7"
  },
  "widgets": {
   "application/vnd.jupyter.widget-state+json": {
    "state": {},
    "version_major": 2,
    "version_minor": 0
   }
  }
 },
 "nbformat": 4,
 "nbformat_minor": 5
}
