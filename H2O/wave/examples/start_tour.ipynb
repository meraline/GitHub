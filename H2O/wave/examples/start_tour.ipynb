{
 "cells": [
  {
   "cell_type": "code",
   "execution_count": 9,
   "id": "d084055e-b791-4560-97bd-7df91264272e",
   "metadata": {
    "tags": []
   },
   "outputs": [],
   "source": [
    "!python C:\\Users\\artio\\Documents\\GitHub\\H2O\\wave\\examples\\table_menu.py"
   ]
  },
  {
   "cell_type": "code",
   "execution_count": 10,
   "id": "c951d7f4-c3ea-4072-89e9-fa3cafe9f903",
   "metadata": {},
   "outputs": [
    {
     "name": "stderr",
     "output_type": "stream",
     "text": [
      "ERROR: Could not find a version that satisfies the requirement wave_university (from versions: none)\n",
      "ERROR: No matching distribution found for wave_university\n"
     ]
    }
   ],
   "source": [
    "!pip install wave_university"
   ]
  },
  {
   "cell_type": "code",
   "execution_count": 14,
   "id": "3f96bddd-9c73-4692-b2ae-739b1a15497f",
   "metadata": {},
   "outputs": [
    {
     "name": "stdout",
     "output_type": "stream",
     "text": [
      "^C\n",
      "^C\n"
     ]
    }
   ],
   "source": [
    "!cd wave\n",
    "!pip install -r C:\\Users\\artio\\Documents\\GitHub\\H2O\\wave\\examples\\requirements.txt\n",
    "!wave run --no-reload examples.tour"
   ]
  }
 ],
 "metadata": {
  "kernelspec": {
   "display_name": "Python 3 (ipykernel)",
   "language": "python",
   "name": "python3"
  },
  "language_info": {
   "codemirror_mode": {
    "name": "ipython",
    "version": 3
   },
   "file_extension": ".py",
   "mimetype": "text/x-python",
   "name": "python",
   "nbconvert_exporter": "python",
   "pygments_lexer": "ipython3",
   "version": "3.9.7"
  },
  "widgets": {
   "application/vnd.jupyter.widget-state+json": {
    "state": {},
    "version_major": 2,
    "version_minor": 0
   }
  }
 },
 "nbformat": 4,
 "nbformat_minor": 5
}
