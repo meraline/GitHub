{
 "cells": [
  {
   "cell_type": "code",
   "execution_count": 21,
   "id": "d084055e-b791-4560-97bd-7df91264272e",
   "metadata": {
    "tags": []
   },
   "outputs": [
    {
     "name": "stdout",
     "output_type": "stream",
     "text": [
      "----------------------------------------\n",
      " Welcome to the H2O Wave Interactive Tour!\n",
      "\n",
      " Go to http://localhost:10101/tour\n",
      "----------------------------------------\n"
     ]
    }
   ],
   "source": [
    "!python C:\\Users\\artio\\Documents\\GitHub\\H2O\\wave\\examples\\tour.py"
   ]
  }
 ],
 "metadata": {
  "kernelspec": {
   "display_name": "Python 3 (ipykernel)",
   "language": "python",
   "name": "python3"
  },
  "language_info": {
   "codemirror_mode": {
    "name": "ipython",
    "version": 3
   },
   "file_extension": ".py",
   "mimetype": "text/x-python",
   "name": "python",
   "nbconvert_exporter": "python",
   "pygments_lexer": "ipython3",
   "version": "3.9.7"
  },
  "widgets": {
   "application/vnd.jupyter.widget-state+json": {
    "state": {},
    "version_major": 2,
    "version_minor": 0
   }
  }
 },
 "nbformat": 4,
 "nbformat_minor": 5
}
