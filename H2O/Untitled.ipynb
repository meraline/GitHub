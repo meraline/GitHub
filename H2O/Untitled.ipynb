{
 "cells": [
  {
   "cell_type": "code",
   "execution_count": 2,
   "id": "f482d1d4-3899-4853-93f6-d14c096cdae0",
   "metadata": {
    "collapsed": true,
    "jupyter": {
     "outputs_hidden": true
    },
    "tags": []
   },
   "outputs": [
    {
     "name": "stdout",
     "output_type": "stream",
     "text": [
      "Collecting h2o-wave\n",
      "  Downloading h2o_wave-0.24.1-py3-none-win_amd64.whl (9.3 MB)\n",
      "     ---------------------------------------- 9.3/9.3 MB 7.5 MB/s eta 0:00:00\n",
      "Collecting inquirer\n",
      "  Downloading inquirer-3.0.0-py3-none-any.whl (17 kB)\n",
      "Requirement already satisfied: Click in c:\\users\\artio\\anaconda3\\lib\\site-packages (from h2o-wave) (8.0.4)\n",
      "Collecting starlette>=0.13.8\n",
      "  Downloading starlette-0.22.0-py3-none-any.whl (64 kB)\n",
      "     -------------------------------------- 64.3/64.3 kB 491.7 kB/s eta 0:00:00\n",
      "Collecting uvicorn>=0.17.6\n",
      "  Downloading uvicorn-0.20.0-py3-none-any.whl (56 kB)\n",
      "     -------------------------------------- 56.9/56.9 kB 992.3 kB/s eta 0:00:00\n",
      "Collecting httpx>=0.16.1\n",
      "  Downloading httpx-0.23.1-py3-none-any.whl (84 kB)\n",
      "     ---------------------------------------- 85.0/85.0 kB 1.2 MB/s eta 0:00:00\n",
      "Collecting rfc3986[idna2008]<2,>=1.3\n",
      "  Downloading rfc3986-1.5.0-py2.py3-none-any.whl (31 kB)\n",
      "Requirement already satisfied: sniffio in c:\\users\\artio\\anaconda3\\lib\\site-packages (from httpx>=0.16.1->h2o-wave) (1.2.0)\n",
      "Collecting httpcore<0.17.0,>=0.15.0\n",
      "  Downloading httpcore-0.16.1-py3-none-any.whl (68 kB)\n",
      "     -------------------------------------- 68.7/68.7 kB 467.8 kB/s eta 0:00:00\n",
      "Requirement already satisfied: certifi in c:\\users\\artio\\anaconda3\\lib\\site-packages (from httpx>=0.16.1->h2o-wave) (2022.9.24)\n",
      "Requirement already satisfied: typing-extensions>=3.10.0 in c:\\users\\artio\\anaconda3\\lib\\site-packages (from starlette>=0.13.8->h2o-wave) (4.3.0)\n",
      "Requirement already satisfied: anyio<5,>=3.4.0 in c:\\users\\artio\\anaconda3\\lib\\site-packages (from starlette>=0.13.8->h2o-wave) (3.5.0)\n",
      "Requirement already satisfied: h11>=0.8 in c:\\users\\artio\\anaconda3\\lib\\site-packages (from uvicorn>=0.17.6->h2o-wave) (0.13.0)\n",
      "Requirement already satisfied: colorama in c:\\users\\artio\\anaconda3\\lib\\site-packages (from Click->h2o-wave) (0.4.5)\n",
      "Collecting blessed>=1.19.0\n",
      "  Downloading blessed-1.19.1-py2.py3-none-any.whl (58 kB)\n",
      "     -------------------------------------- 58.0/58.0 kB 604.6 kB/s eta 0:00:00\n",
      "Collecting python-editor>=1.0.4\n",
      "  Downloading python_editor-1.0.4-py3-none-any.whl (4.9 kB)\n",
      "Collecting readchar>=3.0.6\n",
      "  Downloading readchar-4.0.3-py3-none-any.whl (8.4 kB)\n",
      "Requirement already satisfied: idna>=2.8 in c:\\users\\artio\\anaconda3\\lib\\site-packages (from anyio<5,>=3.4.0->starlette>=0.13.8->h2o-wave) (3.3)\n",
      "Requirement already satisfied: wcwidth>=0.1.4 in c:\\users\\artio\\anaconda3\\lib\\site-packages (from blessed>=1.19.0->inquirer->h2o-wave) (0.2.5)\n",
      "Requirement already satisfied: six>=1.9.0 in c:\\users\\artio\\anaconda3\\lib\\site-packages (from blessed>=1.19.0->inquirer->h2o-wave) (1.16.0)\n",
      "Collecting jinxed>=1.1.0\n",
      "  Downloading jinxed-1.2.0-py2.py3-none-any.whl (33 kB)\n",
      "Requirement already satisfied: setuptools>=41.0 in c:\\users\\artio\\anaconda3\\lib\\site-packages (from readchar>=3.0.6->inquirer->h2o-wave) (63.4.1)\n",
      "Collecting ansicon\n",
      "  Downloading ansicon-1.89.0-py2.py3-none-any.whl (63 kB)\n",
      "     ---------------------------------------- 63.7/63.7 kB 1.2 MB/s eta 0:00:00\n",
      "Installing collected packages: rfc3986, python-editor, ansicon, readchar, jinxed, uvicorn, starlette, httpcore, blessed, inquirer, httpx, h2o-wave\n",
      "Successfully installed ansicon-1.89.0 blessed-1.19.1 h2o-wave-0.24.1 httpcore-0.16.1 httpx-0.23.1 inquirer-3.0.0 jinxed-1.2.0 python-editor-1.0.4 readchar-4.0.3 rfc3986-1.5.0 starlette-0.22.0 uvicorn-0.20.0\n"
     ]
    }
   ],
   "source": [
    "!pip install h2o-wave"
   ]
  },
  {
   "cell_type": "code",
   "execution_count": 4,
   "id": "9437737d-70e9-4ec7-a03c-6ba3a644e4db",
   "metadata": {},
   "outputs": [
    {
     "ename": "SyntaxError",
     "evalue": "invalid syntax (662806185.py, line 1)",
     "output_type": "error",
     "traceback": [
      "\u001b[1;36m  Input \u001b[1;32mIn [4]\u001b[1;36m\u001b[0m\n\u001b[1;33m    wave learn\u001b[0m\n\u001b[1;37m         ^\u001b[0m\n\u001b[1;31mSyntaxError\u001b[0m\u001b[1;31m:\u001b[0m invalid syntax\n"
     ]
    }
   ],
   "source": [
    "wave learn"
   ]
  },
  {
   "cell_type": "code",
   "execution_count": 6,
   "id": "54dc3b5d-f844-432b-8109-0141a203ae78",
   "metadata": {},
   "outputs": [
    {
     "name": "stderr",
     "output_type": "stream",
     "text": [
      "ERROR: Could not find a version that satisfies the requirement h2o_wave_university (from versions: none)\n",
      "ERROR: No matching distribution found for h2o_wave_university\n"
     ]
    }
   ],
   "source": [
    "!pip install h2o_wave_university"
   ]
  },
  {
   "cell_type": "code",
   "execution_count": null,
   "id": "281dac9a-c681-4227-b078-6baa3001455b",
   "metadata": {},
   "outputs": [],
   "source": [
    "conda install -c h2oai h2o-wave"
   ]
  },
  {
   "cell_type": "code",
   "execution_count": 4,
   "id": "2648d98a-41ff-42a7-a18b-7efa639a3719",
   "metadata": {},
   "outputs": [
    {
     "name": "stderr",
     "output_type": "stream",
     "text": [
      "ERROR: Could not open requirements file: [Errno 2] No such file or directory: 'examples/requirements.txt'\n"
     ]
    }
   ],
   "source": [
    "!pip install -r examples/requirements.txt"
   ]
  },
  {
   "cell_type": "code",
   "execution_count": 5,
   "id": "65e47c20-d061-4f7c-b018-47bbad1bf038",
   "metadata": {
    "collapsed": true,
    "jupyter": {
     "outputs_hidden": true
    },
    "tags": []
   },
   "outputs": [
    {
     "name": "stderr",
     "output_type": "stream",
     "text": [
      "\"source\" ­Ґ пў«пҐвбп ў­гваҐ­­Ґ© Ё«Ё ў­Ґи­Ґ©\n",
      "Є®¬ ­¤®©, ЁбЇ®«­пҐ¬®© Їа®Ја ¬¬®© Ё«Ё Ї ЄҐв­л¬ д ©«®¬.\n"
     ]
    },
    {
     "name": "stdout",
     "output_type": "stream",
     "text": [
      "Requirement already satisfied: h2o-wave in c:\\users\\artio\\anaconda3\\lib\\site-packages (0.24.1)\n",
      "Requirement already satisfied: Click in c:\\users\\artio\\anaconda3\\lib\\site-packages (from h2o-wave) (8.0.4)\n",
      "Requirement already satisfied: inquirer in c:\\users\\artio\\anaconda3\\lib\\site-packages (from h2o-wave) (3.0.0)\n",
      "Requirement already satisfied: httpx>=0.16.1 in c:\\users\\artio\\anaconda3\\lib\\site-packages (from h2o-wave) (0.23.1)\n",
      "Requirement already satisfied: starlette>=0.13.8 in c:\\users\\artio\\anaconda3\\lib\\site-packages (from h2o-wave) (0.22.0)\n",
      "Requirement already satisfied: uvicorn>=0.17.6 in c:\\users\\artio\\anaconda3\\lib\\site-packages (from h2o-wave) (0.20.0)\n",
      "Requirement already satisfied: httpcore<0.17.0,>=0.15.0 in c:\\users\\artio\\anaconda3\\lib\\site-packages (from httpx>=0.16.1->h2o-wave) (0.16.1)\n",
      "Requirement already satisfied: sniffio in c:\\users\\artio\\anaconda3\\lib\\site-packages (from httpx>=0.16.1->h2o-wave) (1.2.0)\n",
      "Requirement already satisfied: rfc3986[idna2008]<2,>=1.3 in c:\\users\\artio\\anaconda3\\lib\\site-packages (from httpx>=0.16.1->h2o-wave) (1.5.0)\n",
      "Requirement already satisfied: certifi in c:\\users\\artio\\anaconda3\\lib\\site-packages (from httpx>=0.16.1->h2o-wave) (2022.9.24)\n",
      "Requirement already satisfied: typing-extensions>=3.10.0 in c:\\users\\artio\\anaconda3\\lib\\site-packages (from starlette>=0.13.8->h2o-wave) (4.3.0)\n",
      "Requirement already satisfied: anyio<5,>=3.4.0 in c:\\users\\artio\\anaconda3\\lib\\site-packages (from starlette>=0.13.8->h2o-wave) (3.5.0)\n",
      "Requirement already satisfied: h11>=0.8 in c:\\users\\artio\\anaconda3\\lib\\site-packages (from uvicorn>=0.17.6->h2o-wave) (0.13.0)\n",
      "Requirement already satisfied: colorama in c:\\users\\artio\\anaconda3\\lib\\site-packages (from Click->h2o-wave) (0.4.5)\n",
      "Requirement already satisfied: blessed>=1.19.0 in c:\\users\\artio\\anaconda3\\lib\\site-packages (from inquirer->h2o-wave) (1.19.1)\n",
      "Requirement already satisfied: readchar>=3.0.6 in c:\\users\\artio\\anaconda3\\lib\\site-packages (from inquirer->h2o-wave) (4.0.3)\n",
      "Requirement already satisfied: python-editor>=1.0.4 in c:\\users\\artio\\anaconda3\\lib\\site-packages (from inquirer->h2o-wave) (1.0.4)\n",
      "Requirement already satisfied: idna>=2.8 in c:\\users\\artio\\anaconda3\\lib\\site-packages (from anyio<5,>=3.4.0->starlette>=0.13.8->h2o-wave) (3.3)\n",
      "Requirement already satisfied: wcwidth>=0.1.4 in c:\\users\\artio\\anaconda3\\lib\\site-packages (from blessed>=1.19.0->inquirer->h2o-wave) (0.2.5)\n",
      "Requirement already satisfied: jinxed>=1.1.0 in c:\\users\\artio\\anaconda3\\lib\\site-packages (from blessed>=1.19.0->inquirer->h2o-wave) (1.2.0)\n",
      "Requirement already satisfied: six>=1.9.0 in c:\\users\\artio\\anaconda3\\lib\\site-packages (from blessed>=1.19.0->inquirer->h2o-wave) (1.16.0)\n",
      "Requirement already satisfied: setuptools>=41.0 in c:\\users\\artio\\anaconda3\\lib\\site-packages (from readchar>=3.0.6->inquirer->h2o-wave) (63.4.1)\n",
      "Requirement already satisfied: ansicon in c:\\users\\artio\\anaconda3\\lib\\site-packages (from jinxed>=1.1.0->blessed>=1.19.0->inquirer->h2o-wave) (1.89.0)\n"
     ]
    }
   ],
   "source": [
    "!python3 -m venv venv\n",
    "!source venv/bin/activate\n",
    "!pip install h2o-wave"
   ]
  },
  {
   "cell_type": "code",
   "execution_count": 1,
   "id": "256157d6-a9ab-4e2d-b42b-baa96c99eba1",
   "metadata": {},
   "outputs": [
    {
     "name": "stdout",
     "output_type": "stream",
     "text": [
      "Fetching examples and related files. Please wait...\n",
      "Downloading https://github.com/h2oai/wave/releases/download/v0.24.1/wave-0.24.1-windows-amd64.tar.gz\n",
      "Extracting...\n",
      "\n",
      "All additional files downloaded and extracted successfully!\n",
      "Examples and tour............. C:\\Users\\artio\\Documents\\GitHub\\H2O\\wave\\examples\n",
      "Demos and layout samples...... C:\\Users\\artio\\Documents\\GitHub\\H2O\\wave\\demo\n",
      "Automated test harness........ C:\\Users\\artio\\Documents\\GitHub\\H2O\\wave\\test\n",
      "Wave daemon for deployments... C:\\Users\\artio\\Documents\\GitHub\\H2O\\wave\n"
     ]
    }
   ],
   "source": [
    "!wave fetch"
   ]
  },
  {
   "cell_type": "code",
   "execution_count": 3,
   "id": "ec22e7f8-1743-4b95-930f-3fe62692897b",
   "metadata": {},
   "outputs": [
    {
     "ename": "NameError",
     "evalue": "name 'examples' is not defined",
     "output_type": "error",
     "traceback": [
      "\u001b[1;31m---------------------------------------------------------------------------\u001b[0m",
      "\u001b[1;31mNameError\u001b[0m                                 Traceback (most recent call last)",
      "Input \u001b[1;32mIn [3]\u001b[0m, in \u001b[0;36m<cell line: 1>\u001b[1;34m()\u001b[0m\n\u001b[1;32m----> 1\u001b[0m \u001b[43mexamples\u001b[49m\u001b[38;5;241m/\u001b[39mtour\u001b[38;5;241m.\u001b[39mpy\n",
      "\u001b[1;31mNameError\u001b[0m: name 'examples' is not defined"
     ]
    }
   ],
   "source": [
    "examples/tour.py"
   ]
  },
  {
   "cell_type": "code",
   "execution_count": 5,
   "id": "4f29b1c1-c40c-4d80-82ee-a4e8875346e1",
   "metadata": {},
   "outputs": [
    {
     "name": "stderr",
     "output_type": "stream",
     "text": [
      "ERROR: Could not open requirements file: [Errno 2] No such file or directory: 'examples/requirements.txt'\n"
     ]
    }
   ],
   "source": [
    "!pip install -r examples/requirements.txt"
   ]
  }
 ],
 "metadata": {
  "kernelspec": {
   "display_name": "Python 3 (ipykernel)",
   "language": "python",
   "name": "python3"
  },
  "language_info": {
   "codemirror_mode": {
    "name": "ipython",
    "version": 3
   },
   "file_extension": ".py",
   "mimetype": "text/x-python",
   "name": "python",
   "nbconvert_exporter": "python",
   "pygments_lexer": "ipython3",
   "version": "3.9.7"
  },
  "widgets": {
   "application/vnd.jupyter.widget-state+json": {
    "state": {},
    "version_major": 2,
    "version_minor": 0
   }
  }
 },
 "nbformat": 4,
 "nbformat_minor": 5
}
